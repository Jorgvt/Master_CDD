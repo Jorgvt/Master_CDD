{
 "cells": [
  {
   "cell_type": "markdown",
   "metadata": {},
   "source": [
    "# Problema PyVista - Procesamiento de mayas\n",
    "\n",
    "Este ejercicio va a consistir en la importación de una maya con `PyVista` y la aplicación de algunas transformaciones sencillas para familiarizarse con la librería.\n",
    "\n",
    "> Realizado por Jorge Vila Tomás."
   ]
  },
  {
   "cell_type": "markdown",
   "metadata": {},
   "source": [
    "## Importación de las librerías\n",
    "\n",
    "Para realizar el trabajo utilizaremos únicamente `NumPy` y `PyVista`:"
   ]
  },
  {
   "cell_type": "code",
   "execution_count": 1,
   "metadata": {},
   "outputs": [],
   "source": [
    "import numpy as np\n",
    "import pyvista as pv"
   ]
  },
  {
   "cell_type": "markdown",
   "metadata": {},
   "source": [
    "## Carga de la malla\n",
    "\n",
    "El primer paso que tendremos que realizar será cargar una malla que ya está creada. En este caso vamos a trabajar con una representación 3D de una arteria."
   ]
  },
  {
   "cell_type": "markdown",
   "metadata": {},
   "source": [
    "Para cargar la malla podemos utilizar la función `read`:"
   ]
  },
  {
   "cell_type": "code",
   "execution_count": 2,
   "metadata": {},
   "outputs": [
    {
     "data": {
      "text/html": [
       "\n",
       "<table>\n",
       "<tr><th>PolyData</th><th>Information</th></tr>\n",
       "<tr><td>N Cells</td><td>34490</td></tr>\n",
       "<tr><td>N Points</td><td>17247</td></tr>\n",
       "<tr><td>X Bounds</td><td>-1.699e+00, 5.406e+01</td></tr>\n",
       "<tr><td>Y Bounds</td><td>-7.933e+01, -1.116e+01</td></tr>\n",
       "<tr><td>Z Bounds</td><td>-1.690e+02, -1.466e+02</td></tr>\n",
       "<tr><td>N Arrays</td><td>0</td></tr>\n",
       "</table>\n",
       "\n"
      ],
      "text/plain": [
       "PolyData (0x22ff10dc100)\n",
       "  N Cells:\t34490\n",
       "  N Points:\t17247\n",
       "  X Bounds:\t-1.699e+00, 5.406e+01\n",
       "  Y Bounds:\t-7.933e+01, -1.116e+01\n",
       "  Z Bounds:\t-1.690e+02, -1.466e+02\n",
       "  N Arrays:\t0"
      ]
     },
     "execution_count": 2,
     "metadata": {},
     "output_type": "execute_result"
    }
   ],
   "source": [
    "mesh = pv.read('Modelos_3D/CT_FFR_Pilot_6_corto.stl')\n",
    "mesh"
   ]
  },
  {
   "cell_type": "markdown",
   "metadata": {},
   "source": [
    "Al mostrar el objeto que hemos cargado se pueden ver algunas características de la malla: cantidad de celdas y de puntos, límites, etc. También podemos acceder a esta información mediante los atributos correspondientes:"
   ]
  },
  {
   "cell_type": "code",
   "execution_count": 3,
   "metadata": {},
   "outputs": [
    {
     "data": {
      "text/plain": [
       "(34490, 17247)"
      ]
     },
     "execution_count": 3,
     "metadata": {},
     "output_type": "execute_result"
    }
   ],
   "source": [
    "mesh.n_cells, mesh.n_points"
   ]
  },
  {
   "cell_type": "markdown",
   "metadata": {},
   "source": [
    "Por último, también podemos representar la malla en un visor 3D con el método `.plot()` de la misma:"
   ]
  },
  {
   "cell_type": "code",
   "execution_count": 4,
   "metadata": {},
   "outputs": [
    {
     "data": {
      "application/vnd.jupyter.widget-view+json": {
       "model_id": "a7a76d841fe6479ea6ce14cf228a6732",
       "version_major": 2,
       "version_minor": 0
      },
      "text/plain": [
       "ViewInteractiveWidget(height=768, layout=Layout(height='auto', width='100%'), width=1024)"
      ]
     },
     "metadata": {},
     "output_type": "display_data"
    }
   ],
   "source": [
    "mesh.plot()"
   ]
  },
  {
   "cell_type": "markdown",
   "metadata": {},
   "source": [
    "## Modificando la malla: decimar y suavizar\n",
    "\n",
    "`PyVista` permite modificar muy fácilmente las mallas. Para verlo aplicaremos las funciones de decimar y suavizar:\n",
    "\n",
    "- Decimar: Consiste en reducir la cantidad de puntos de la malla. Lo podemos hacer con el método `.decimate()`. También podemos utilizar `.decimate_pro()`, que permite mantener la topología de la malla al hacer la operación.\n",
    "- Suavizado: Se podría entender como la operación contraria. Aumenta la cantidad de puntos para suavizar los bordes. Podemos aplicarlo con el método `.smooth()`. *Nota: En la documentación no lo aplican directamente sobre la malla, si no que extraen la superficie con el método `.extract_geometry()` y aplican el suavizado a esta superficie.*"
   ]
  },
  {
   "cell_type": "markdown",
   "metadata": {},
   "source": [
    "### Decimar"
   ]
  },
  {
   "cell_type": "code",
   "execution_count": 5,
   "metadata": {},
   "outputs": [
    {
     "data": {
      "text/html": [
       "\n",
       "<table>\n",
       "<tr><th>PolyData</th><th>Information</th></tr>\n",
       "<tr><td>N Cells</td><td>17244</td></tr>\n",
       "<tr><td>N Points</td><td>8624</td></tr>\n",
       "<tr><td>X Bounds</td><td>-1.683e+00, 5.407e+01</td></tr>\n",
       "<tr><td>Y Bounds</td><td>-7.933e+01, -1.117e+01</td></tr>\n",
       "<tr><td>Z Bounds</td><td>-1.689e+02, -1.466e+02</td></tr>\n",
       "<tr><td>N Arrays</td><td>0</td></tr>\n",
       "</table>\n",
       "\n"
      ],
      "text/plain": [
       "PolyData (0x22ff10dc220)\n",
       "  N Cells:\t17244\n",
       "  N Points:\t8624\n",
       "  X Bounds:\t-1.683e+00, 5.407e+01\n",
       "  Y Bounds:\t-7.933e+01, -1.117e+01\n",
       "  Z Bounds:\t-1.689e+02, -1.466e+02\n",
       "  N Arrays:\t0"
      ]
     },
     "execution_count": 5,
     "metadata": {},
     "output_type": "execute_result"
    }
   ],
   "source": [
    "decimated = mesh.decimate(target_reduction=0.5)\n",
    "decimated"
   ]
  },
  {
   "cell_type": "markdown",
   "metadata": {},
   "source": [
    "Si comparamos esta malla con la que hemos cargado anteriormente, comprobamos que tiene la mitad de puntos. Aún así, podemos representarla y ver que no se aprecia demasiado el cambio. Esta es una buena manera de reducir la carga computacional al poder trabajar con menos polígonos ."
   ]
  },
  {
   "cell_type": "code",
   "execution_count": 6,
   "metadata": {},
   "outputs": [
    {
     "data": {
      "application/vnd.jupyter.widget-view+json": {
       "model_id": "638df5a9d4804401b597553349d7b2a8",
       "version_major": 2,
       "version_minor": 0
      },
      "text/plain": [
       "ViewInteractiveWidget(height=768, layout=Layout(height='auto', width='100%'), width=1024)"
      ]
     },
     "metadata": {},
     "output_type": "display_data"
    }
   ],
   "source": [
    "decimated.plot()"
   ]
  },
  {
   "cell_type": "markdown",
   "metadata": {},
   "source": [
    "### Suavizar"
   ]
  },
  {
   "cell_type": "code",
   "execution_count": 7,
   "metadata": {},
   "outputs": [],
   "source": [
    "surf = mesh.extract_geometry()\n",
    "smooth = surf.smooth(n_iter=10)"
   ]
  },
  {
   "cell_type": "markdown",
   "metadata": {},
   "source": [
    "En cambio, en este caso podemos ver que la cantidad de puntos de la malla se mantiene exactamente igual que en la malla original."
   ]
  },
  {
   "cell_type": "code",
   "execution_count": 8,
   "metadata": {
    "scrolled": true
   },
   "outputs": [
    {
     "data": {
      "text/html": [
       "\n",
       "<table>\n",
       "<tr><th>PolyData</th><th>Information</th></tr>\n",
       "<tr><td>N Cells</td><td>34490</td></tr>\n",
       "<tr><td>N Points</td><td>17247</td></tr>\n",
       "<tr><td>X Bounds</td><td>-1.694e+00, 5.403e+01</td></tr>\n",
       "<tr><td>Y Bounds</td><td>-7.932e+01, -1.117e+01</td></tr>\n",
       "<tr><td>Z Bounds</td><td>-1.690e+02, -1.466e+02</td></tr>\n",
       "<tr><td>N Arrays</td><td>0</td></tr>\n",
       "</table>\n",
       "\n"
      ],
      "text/plain": [
       "PolyData (0x22ffb015b80)\n",
       "  N Cells:\t34490\n",
       "  N Points:\t17247\n",
       "  X Bounds:\t-1.694e+00, 5.403e+01\n",
       "  Y Bounds:\t-7.932e+01, -1.117e+01\n",
       "  Z Bounds:\t-1.690e+02, -1.466e+02\n",
       "  N Arrays:\t0"
      ]
     },
     "execution_count": 8,
     "metadata": {},
     "output_type": "execute_result"
    }
   ],
   "source": [
    "smooth"
   ]
  },
  {
   "cell_type": "markdown",
   "metadata": {},
   "source": [
    "Si representamos ahora esta malla, sí que podemos apreciar que se han suavizado los bordes:"
   ]
  },
  {
   "cell_type": "code",
   "execution_count": 9,
   "metadata": {},
   "outputs": [
    {
     "data": {
      "application/vnd.jupyter.widget-view+json": {
       "model_id": "8b31d98b1a19435995cd71541607c93f",
       "version_major": 2,
       "version_minor": 0
      },
      "text/plain": [
       "ViewInteractiveWidget(height=768, layout=Layout(height='auto', width='100%'), width=1024)"
      ]
     },
     "metadata": {},
     "output_type": "display_data"
    }
   ],
   "source": [
    "smooth.plot()"
   ]
  },
  {
   "cell_type": "markdown",
   "metadata": {},
   "source": [
    "## Cálculo de las normales\n",
    "\n",
    "Podemos calcular las normales a cada cara utilizando el método `.compute_normals(inplace=True)`."
   ]
  },
  {
   "cell_type": "code",
   "execution_count": 10,
   "metadata": {},
   "outputs": [
    {
     "data": {
      "text/html": [
       "<table><tr><th>Header</th><th>Data Arrays</th></tr><tr><td>\n",
       "<table>\n",
       "<tr><th>PolyData</th><th>Information</th></tr>\n",
       "<tr><td>N Cells</td><td>34490</td></tr>\n",
       "<tr><td>N Points</td><td>17247</td></tr>\n",
       "<tr><td>X Bounds</td><td>-1.699e+00, 5.406e+01</td></tr>\n",
       "<tr><td>Y Bounds</td><td>-7.933e+01, -1.116e+01</td></tr>\n",
       "<tr><td>Z Bounds</td><td>-1.690e+02, -1.466e+02</td></tr>\n",
       "<tr><td>N Arrays</td><td>2</td></tr>\n",
       "</table>\n",
       "\n",
       "</td><td>\n",
       "<table>\n",
       "<tr><th>Name</th><th>Field</th><th>Type</th><th>N Comp</th><th>Min</th><th>Max</th></tr>\n",
       "<tr><td>Normals</td><td>Points</td><td>float32</td><td>3</td><td>-1.000e+00</td><td>1.000e+00</td></tr>\n",
       "<tr><td>Normals</td><td>Cells</td><td>float32</td><td>3</td><td>-1.000e+00</td><td>1.000e+00</td></tr>\n",
       "</table>\n",
       "\n",
       "</td></tr> </table>"
      ],
      "text/plain": [
       "PolyData (0x22ff10dc100)\n",
       "  N Cells:\t34490\n",
       "  N Points:\t17247\n",
       "  X Bounds:\t-1.699e+00, 5.406e+01\n",
       "  Y Bounds:\t-7.933e+01, -1.116e+01\n",
       "  Z Bounds:\t-1.690e+02, -1.466e+02\n",
       "  N Arrays:\t2"
      ]
     },
     "execution_count": 10,
     "metadata": {},
     "output_type": "execute_result"
    }
   ],
   "source": [
    "mesh.compute_normals(inplace=True)"
   ]
  },
  {
   "cell_type": "markdown",
   "metadata": {},
   "source": [
    "Y ahora las visualizamos:\n",
    "\n",
    "> El parámetro `tolerance` indica la cantidad de flechas que vamos a mostrar. Un número más bajo implica una mayor cantidad de normales a enseñar."
   ]
  },
  {
   "cell_type": "code",
   "execution_count": 11,
   "metadata": {},
   "outputs": [],
   "source": [
    "arrows = mesh.glyph(scale=\"Normals\", orient=\"Normals\", tolerance=0.015)"
   ]
  },
  {
   "cell_type": "code",
   "execution_count": 12,
   "metadata": {},
   "outputs": [
    {
     "data": {
      "application/vnd.jupyter.widget-view+json": {
       "model_id": "5e5e3747c90044c8892e24d4159aa19b",
       "version_major": 2,
       "version_minor": 0
      },
      "text/plain": [
       "ViewInteractiveWidget(height=768, layout=Layout(height='auto', width='100%'), width=1024)"
      ]
     },
     "metadata": {},
     "output_type": "display_data"
    }
   ],
   "source": [
    "p = pv.Plotter()\n",
    "p.add_mesh(arrows, color=\"black\")\n",
    "p.add_mesh(mesh)\n",
    "p.show()"
   ]
  },
  {
   "cell_type": "markdown",
   "metadata": {},
   "source": [
    "## Campo escalar\n",
    "\n",
    "`PyVista` también permite representar campos escalares junto con las mallas. Esto puede ser interesante si estamos trabajando con mallas que tienen asociados campos de presión, altura, temperatura, etc. A modo de ejemplo vamos a definir un campo contínuo de ejemplo que varía uniformemente para poder visualizarlo fácilmente.\n",
    "\n",
    "El proceso es muy sencillo: simplemente tendremos que añadir el campo a la malla como si estuviésemos trabajando con un diccionario de Python, y aparecerá automáticamente en la representación 3D:"
   ]
  },
  {
   "cell_type": "code",
   "execution_count": 13,
   "metadata": {},
   "outputs": [],
   "source": [
    "mesh['Sample Magnitude'] = np.arange(mesh.n_points)"
   ]
  },
  {
   "cell_type": "code",
   "execution_count": 14,
   "metadata": {},
   "outputs": [
    {
     "data": {
      "application/vnd.jupyter.widget-view+json": {
       "model_id": "0e877e44defd41d18c62626711b05118",
       "version_major": 2,
       "version_minor": 0
      },
      "text/plain": [
       "ViewInteractiveWidget(height=768, layout=Layout(height='auto', width='100%'), width=1024)"
      ]
     },
     "metadata": {},
     "output_type": "display_data"
    }
   ],
   "source": [
    "p = pv.Plotter()\n",
    "# p.add_mesh(arrows, color=\"black\")\n",
    "p.add_mesh(mesh)\n",
    "p.show()"
   ]
  },
  {
   "cell_type": "markdown",
   "metadata": {},
   "source": [
    "## Cálculo del volumen\n",
    "\n",
    "Se supone que debería ser fácil siguiendo esto: https://docs.pyvista.org/examples/01-filter/compute-volume.html"
   ]
  },
  {
   "cell_type": "code",
   "execution_count": 15,
   "metadata": {},
   "outputs": [
    {
     "data": {
      "text/html": [
       "<table><tr><th>Header</th><th>Data Arrays</th></tr><tr><td>\n",
       "<table>\n",
       "<tr><th>PolyData</th><th>Information</th></tr>\n",
       "<tr><td>N Cells</td><td>34490</td></tr>\n",
       "<tr><td>N Points</td><td>17247</td></tr>\n",
       "<tr><td>X Bounds</td><td>-1.699e+00, 5.406e+01</td></tr>\n",
       "<tr><td>Y Bounds</td><td>-7.933e+01, -1.116e+01</td></tr>\n",
       "<tr><td>Z Bounds</td><td>-1.690e+02, -1.466e+02</td></tr>\n",
       "<tr><td>N Arrays</td><td>6</td></tr>\n",
       "</table>\n",
       "\n",
       "</td><td>\n",
       "<table>\n",
       "<tr><th>Name</th><th>Field</th><th>Type</th><th>N Comp</th><th>Min</th><th>Max</th></tr>\n",
       "<tr><td>Normals</td><td>Points</td><td>float32</td><td>3</td><td>-1.000e+00</td><td>1.000e+00</td></tr>\n",
       "<tr><td><b>Sample Magnitude</b></td><td>Points</td><td>int32</td><td>1</td><td>0.000e+00</td><td>1.725e+04</td></tr>\n",
       "<tr><td>Normals</td><td>Cells</td><td>float32</td><td>3</td><td>-1.000e+00</td><td>1.000e+00</td></tr>\n",
       "<tr><td>Length</td><td>Cells</td><td>float64</td><td>1</td><td>0.000e+00</td><td>0.000e+00</td></tr>\n",
       "<tr><td>Area</td><td>Cells</td><td>float64</td><td>1</td><td>1.157e-03</td><td>4.442e+00</td></tr>\n",
       "<tr><td>Volume</td><td>Cells</td><td>float64</td><td>1</td><td>0.000e+00</td><td>0.000e+00</td></tr>\n",
       "</table>\n",
       "\n",
       "</td></tr> </table>"
      ],
      "text/plain": [
       "PolyData (0x22f84c05b80)\n",
       "  N Cells:\t34490\n",
       "  N Points:\t17247\n",
       "  X Bounds:\t-1.699e+00, 5.406e+01\n",
       "  Y Bounds:\t-7.933e+01, -1.116e+01\n",
       "  Z Bounds:\t-1.690e+02, -1.466e+02\n",
       "  N Arrays:\t6"
      ]
     },
     "execution_count": 15,
     "metadata": {},
     "output_type": "execute_result"
    }
   ],
   "source": [
    "mesh.compute_cell_sizes()"
   ]
  },
  {
   "cell_type": "markdown",
   "metadata": {},
   "source": [
    "## Análisis del interior de la malla: puntos interiores y exteriores\n",
    "\n",
    "Otro ejercicio sencillo que podemos realizar consiste en rellenar el espacio con puntos aleatorios y dividirlos en dos conjuntos: los que están contenidos en la malla y los que están fuera. De esta manera podemos calcular incluso el volumen de la misma. Para hacerlo utilizaremos el método `.select_enclosed_points()`, que nos proporciona una máscara para diferenciar los puntos interiores y exteriores de la malla. "
   ]
  },
  {
   "cell_type": "markdown",
   "metadata": {},
   "source": [
    "Empezaremos generando los puntos aleatorios. Para facilitar el proceso los generamos únicamente en la caja que contiene a la malla:"
   ]
  },
  {
   "cell_type": "code",
   "execution_count": 16,
   "metadata": {},
   "outputs": [],
   "source": [
    "xmin, xmax, ymin, ymax, zmin, zmax = mesh.bounds"
   ]
  },
  {
   "cell_type": "code",
   "execution_count": 17,
   "metadata": {},
   "outputs": [
    {
     "data": {
      "text/plain": [
       "(100000, 3)"
      ]
     },
     "execution_count": 17,
     "metadata": {},
     "output_type": "execute_result"
    }
   ],
   "source": [
    "N_points = 100000\n",
    "a = np.random.uniform(low=xmin,\n",
    "                      high=xmax,\n",
    "                      size=(N_points,1))\n",
    "b = np.random.uniform(low=ymin,\n",
    "                      high=ymax,\n",
    "                      size=(N_points,1))\n",
    "c = np.random.uniform(low=zmin,\n",
    "                      high=zmax,\n",
    "                      size=(N_points,1))\n",
    "d = np.concatenate([a,b,c], axis=-1)\n",
    "d.shape"
   ]
  },
  {
   "cell_type": "markdown",
   "metadata": {},
   "source": [
    "A partir de los puntos creados con `NumPy`, instanciamos un objeto `PolyData` de `PyVista`:"
   ]
  },
  {
   "cell_type": "code",
   "execution_count": 18,
   "metadata": {},
   "outputs": [
    {
     "data": {
      "text/html": [
       "\n",
       "<table>\n",
       "<tr><th>PolyData</th><th>Information</th></tr>\n",
       "<tr><td>N Cells</td><td>100000</td></tr>\n",
       "<tr><td>N Points</td><td>100000</td></tr>\n",
       "<tr><td>X Bounds</td><td>-1.699e+00, 5.406e+01</td></tr>\n",
       "<tr><td>Y Bounds</td><td>-7.933e+01, -1.116e+01</td></tr>\n",
       "<tr><td>Z Bounds</td><td>-1.690e+02, -1.466e+02</td></tr>\n",
       "<tr><td>N Arrays</td><td>0</td></tr>\n",
       "</table>\n",
       "\n"
      ],
      "text/plain": [
       "PolyData (0x22f84c142e0)\n",
       "  N Cells:\t100000\n",
       "  N Points:\t100000\n",
       "  X Bounds:\t-1.699e+00, 5.406e+01\n",
       "  Y Bounds:\t-7.933e+01, -1.116e+01\n",
       "  Z Bounds:\t-1.690e+02, -1.466e+02\n",
       "  N Arrays:\t0"
      ]
     },
     "execution_count": 18,
     "metadata": {},
     "output_type": "execute_result"
    }
   ],
   "source": [
    "pts_pd = pv.PolyData(d)\n",
    "pts_pd"
   ]
  },
  {
   "cell_type": "markdown",
   "metadata": {},
   "source": [
    "Si representamos los puntos junto con la malla anterior podemos comprobar que los hemos creado correctamente:"
   ]
  },
  {
   "cell_type": "code",
   "execution_count": 19,
   "metadata": {
    "scrolled": false
   },
   "outputs": [
    {
     "data": {
      "application/vnd.jupyter.widget-view+json": {
       "model_id": "5456e14b040b4632bfc17109742e5cf2",
       "version_major": 2,
       "version_minor": 0
      },
      "text/plain": [
       "ViewInteractiveWidget(height=768, layout=Layout(height='auto', width='100%'), width=1024)"
      ]
     },
     "metadata": {},
     "output_type": "display_data"
    }
   ],
   "source": [
    "p = pv.Plotter()\n",
    "p.add_mesh(pts_pd)\n",
    "p.add_mesh(mesh)\n",
    "p.show()"
   ]
  },
  {
   "cell_type": "markdown",
   "metadata": {},
   "source": [
    "Una vez tenemos las dos mallas (la original y la de puntos), solamente queda aplicar el método `malla1.select_enclosed_points(malla2)`. Hay que tener cuidado porque nos seleccionará los puntos de la `malla1` que están contenidos en la `malla2`, así que el orden es importante. En nuestro caso `malla1` será la nube de puntos y `malla2` la arteria:"
   ]
  },
  {
   "cell_type": "code",
   "execution_count": 20,
   "metadata": {},
   "outputs": [],
   "source": [
    "pts_enclosed = pts_pd.select_enclosed_points(mesh)"
   ]
  },
  {
   "cell_type": "markdown",
   "metadata": {},
   "source": [
    "La máscara que buscamos se encuentra en la clave `SelectedPoints`:"
   ]
  },
  {
   "cell_type": "code",
   "execution_count": 21,
   "metadata": {},
   "outputs": [
    {
     "data": {
      "text/plain": [
       "array([0, 0, 0, ..., 0, 0, 0], dtype=uint8)"
      ]
     },
     "execution_count": 21,
     "metadata": {},
     "output_type": "execute_result"
    }
   ],
   "source": [
    "pts_enclosed['SelectedPoints']"
   ]
  },
  {
   "cell_type": "markdown",
   "metadata": {},
   "source": [
    "A partir de ella es muy sencillo seleccionar los puntos interiores y los exteriores respecto de la malla:"
   ]
  },
  {
   "cell_type": "code",
   "execution_count": 22,
   "metadata": {},
   "outputs": [],
   "source": [
    "pts_enc = pts_pd.extract_points(pts_enclosed['SelectedPoints'].view(bool))\n",
    "pts_out = pts_pd.extract_points(~pts_enclosed['SelectedPoints'].view(bool))"
   ]
  },
  {
   "cell_type": "markdown",
   "metadata": {},
   "source": [
    "Si los representamos de distinto color, vemos que el proceso se ha completado tal y como queríamos:"
   ]
  },
  {
   "cell_type": "code",
   "execution_count": 23,
   "metadata": {
    "scrolled": false
   },
   "outputs": [
    {
     "data": {
      "application/vnd.jupyter.widget-view+json": {
       "model_id": "cab8debec3fa40e5858c89c8543e1263",
       "version_major": 2,
       "version_minor": 0
      },
      "text/plain": [
       "ViewInteractiveWidget(height=768, layout=Layout(height='auto', width='100%'), width=1024)"
      ]
     },
     "metadata": {},
     "output_type": "display_data"
    }
   ],
   "source": [
    "p = pv.Plotter()\n",
    "p.add_points(pts_enc, color='r')\n",
    "p.add_points(pts_out, color='b')\n",
    "p.show()"
   ]
  },
  {
   "cell_type": "markdown",
   "metadata": {},
   "source": [
    "### Cálculo del volumen\n",
    "\n",
    "Una vez hemos conseguido identificar la cantidad de puntos que están dentro de la malla, podemos calcular el volumen de la arteria como la proporción de puntos interiores multiplicado por el volumen total de la caja que hemos utilizado para generar los puntos:"
   ]
  },
  {
   "cell_type": "code",
   "execution_count": 24,
   "metadata": {},
   "outputs": [],
   "source": [
    "lx, ly, lz = xmax-xmin, ymax-ymin, zmax-zmin"
   ]
  },
  {
   "cell_type": "code",
   "execution_count": 25,
   "metadata": {},
   "outputs": [
    {
     "data": {
      "text/plain": [
       "85354.60418472321"
      ]
     },
     "execution_count": 25,
     "metadata": {},
     "output_type": "execute_result"
    }
   ],
   "source": [
    "v = lx*ly*lz\n",
    "v"
   ]
  },
  {
   "cell_type": "code",
   "execution_count": 26,
   "metadata": {},
   "outputs": [
    {
     "data": {
      "text/plain": [
       "1598.6917363798657"
      ]
     },
     "execution_count": 26,
     "metadata": {},
     "output_type": "execute_result"
    }
   ],
   "source": [
    "v_art = (pts_enc.n_points/N_points)*v\n",
    "v_art"
   ]
  },
  {
   "cell_type": "markdown",
   "metadata": {},
   "source": [
    "Finalmente obtenemos que la arteria tiene un volumen de 1599 unidades."
   ]
  }
 ],
 "metadata": {
  "interpreter": {
   "hash": "57d46a1f3f975f92cc34d815bf69a7d3644582cc16f1cedc66cb95f17202c91e"
  },
  "kernelspec": {
   "display_name": "Python 3 (ipykernel)",
   "language": "python",
   "name": "python3"
  },
  "language_info": {
   "codemirror_mode": {
    "name": "ipython",
    "version": 3
   },
   "file_extension": ".py",
   "mimetype": "text/x-python",
   "name": "python",
   "nbconvert_exporter": "python",
   "pygments_lexer": "ipython3",
   "version": "3.8.13"
  }
 },
 "nbformat": 4,
 "nbformat_minor": 2
}
