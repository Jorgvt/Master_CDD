{
 "cells": [
  {
   "cell_type": "markdown",
   "source": [
    "<img src=\"idal-logo.png\" align=\"right\" style=\"float\" width=\"400\">\r\n",
    "<font color=\"#CA3532\"><h1 align=\"left\">Master en Ciencia de Datos</h1></font>\r\n",
    "<font color=\"#6E6E6E\"><h2 align=\"left\">Tarea Extra 2. </h2></font> \r\n",
    "<font color=\"#6E6E6E\"><h2 align=\"left\">24-09-2021 </h2></font> \r\n",
    "\r\n",
    "#### Jorge Vila Tomás"
   ],
   "metadata": {}
  },
  {
   "cell_type": "markdown",
   "source": [
    "**Ejercicio 1. (2 puntos)** Resuelve los siguientes ejercicios utilizando comprehensions de python.\r\n",
    "\r\n",
    "\r\n",
    "* Encuentra todos los números entre 5000 y 10000 que son divisibles por 9. Los elementos deben estar dispuestos en una lista. \r\n",
    "\r\n",
    "* Crea una función cuyo argumento sea una lista de palabras y devuelva un diccionario cuyas claves sean las palabras con más de 3 letras y sus valores  el número de letras.\r\n",
    "\r\n",
    "* Produce una lista con las coincidencias entre las listas A=[1,28,32,45,49] y B=[28,32]. Propón dos soluciones una utilizando sets y otra sin utilizarlos.\r\n",
    "\r\n",
    "* Generaliza el ejercicio anterior creando una función cuyos arguementos sean dos listas cualquiera y la salida sea la lista con las coincidencias.\r\n"
   ],
   "metadata": {}
  },
  {
   "cell_type": "markdown",
   "source": [
    "Para encontrar todos los números entre 5000 y 10000 que son divisibles por 9 podemos iterar sobre todos y comprobar el resultado de la operación `%9`. Si es 0 es porque son divisibles por 9 y los añadimos a una lista."
   ],
   "metadata": {}
  },
  {
   "cell_type": "code",
   "execution_count": 2,
   "source": [
    "l_1 = [i for i in range(5000, 10000+1) if i%9==0]\r\n",
    "l_1[:5]"
   ],
   "outputs": [
    {
     "output_type": "execute_result",
     "data": {
      "text/plain": [
       "[5004, 5013, 5022, 5031, 5040]"
      ]
     },
     "metadata": {},
     "execution_count": 2
    }
   ],
   "metadata": {}
  },
  {
   "cell_type": "markdown",
   "source": [
    "También podemos plantear una comprensión de diccionario para crear una función que nos devuelva un diccionario que cumpla las condiciones dichas. Podemos hacerlo un poco más general si le añadimos un parámetro `n_min` que controle la cantidad mínima de letras que tiene que tener una palabra para añadirla al diccionario."
   ],
   "metadata": {}
  },
  {
   "cell_type": "code",
   "execution_count": 3,
   "source": [
    "def list_to_dict(word_list, n_min=3):\r\n",
    "    return {word:len(word) for word in word_list if len(word)>n_min}"
   ],
   "outputs": [],
   "metadata": {}
  },
  {
   "cell_type": "code",
   "execution_count": 4,
   "source": [
    "list_to_dict([\"a\", \"aa\", \"aaa\", \"aaaa\", \"aaaaa\"])"
   ],
   "outputs": [
    {
     "output_type": "execute_result",
     "data": {
      "text/plain": [
       "{'aaaa': 4, 'aaaaa': 5}"
      ]
     },
     "metadata": {},
     "execution_count": 4
    }
   ],
   "metadata": {}
  },
  {
   "cell_type": "markdown",
   "source": [
    "Cuando queremos buscar intersecciones y uniones los sets resultan muy prácticos, aunque no tenemos que utilizarlos si no queremos. Podemos resolver lo mismo iterando sobre una de las listas y comprobando la pertenencia a la otra lista."
   ],
   "metadata": {}
  },
  {
   "cell_type": "code",
   "execution_count": 5,
   "source": [
    "A = [1, 28, 32,45, 49]\r\n",
    "B = [28, 32]\r\n",
    "\r\n",
    "## Utilizando sets\r\n",
    "A_B_Sets = list(set(A).intersection(set(B)))\r\n",
    "print(A_B_Sets)\r\n",
    "\r\n",
    "## Sin utilizar sets\r\n",
    "A_B_no_Sets = [a for a in A if a in B]\r\n",
    "print(A_B_no_Sets)"
   ],
   "outputs": [
    {
     "output_type": "stream",
     "name": "stdout",
     "text": [
      "[32, 28]\n",
      "[28, 32]\n"
     ]
    }
   ],
   "metadata": {}
  },
  {
   "cell_type": "markdown",
   "source": [
    "Finalmente podemos generalizar esto a una función. En este caso utilizamos los `set`s porque son más cómodos:"
   ],
   "metadata": {}
  },
  {
   "cell_type": "code",
   "execution_count": 6,
   "source": [
    "def coincidences(list_A, list_B):\r\n",
    "    return list(set(list_A).intersection(set(list_B)))"
   ],
   "outputs": [],
   "metadata": {}
  },
  {
   "cell_type": "code",
   "execution_count": 7,
   "source": [
    "coincidences(A, B)"
   ],
   "outputs": [
    {
     "output_type": "execute_result",
     "data": {
      "text/plain": [
       "[32, 28]"
      ]
     },
     "metadata": {},
     "execution_count": 7
    }
   ],
   "metadata": {}
  },
  {
   "cell_type": "markdown",
   "source": [
    "Y además podemos generalizar esta función para que acepte cualquier cantidad de listas, no solamente dos:"
   ],
   "metadata": {}
  },
  {
   "cell_type": "code",
   "execution_count": 17,
   "source": [
    "def coincidences_general(lists):\r\n",
    "    sets = [set(l) for l in lists]\r\n",
    "\r\n",
    "    for i in range(len(sets)-1):\r\n",
    "        if i == 0:\r\n",
    "            ref_set = sets[i]\r\n",
    "        else:\r\n",
    "            ref_set = ref_set.intersection(sets[i+1])\r\n",
    "\r\n",
    "    return list(ref_set)"
   ],
   "outputs": [],
   "metadata": {}
  },
  {
   "cell_type": "markdown",
   "source": [
    "Podemos comprobar que efectivamente solo aparecen los elementos comunes a **todas** las listas, no sirve con que esté en algunsa."
   ],
   "metadata": {}
  },
  {
   "cell_type": "code",
   "execution_count": 20,
   "source": [
    "A = [1, 28, 32,45, 49]\r\n",
    "B = [28, 32, 1]\r\n",
    "C = [4, 32, 15, 1]\r\n",
    "D = [99, 4, 1]"
   ],
   "outputs": [],
   "metadata": {}
  },
  {
   "cell_type": "code",
   "execution_count": 22,
   "source": [
    "coincidences_general([A,B,C,D])"
   ],
   "outputs": [
    {
     "output_type": "execute_result",
     "data": {
      "text/plain": [
       "[1]"
      ]
     },
     "metadata": {},
     "execution_count": 22
    }
   ],
   "metadata": {}
  }
 ],
 "metadata": {
  "kernelspec": {
   "name": "python3",
   "display_name": "Python 3.8.5 64-bit ('Master': conda)"
  },
  "language_info": {
   "name": "python",
   "version": "3.8.5",
   "mimetype": "text/x-python",
   "codemirror_mode": {
    "name": "ipython",
    "version": 3
   },
   "pygments_lexer": "ipython3",
   "nbconvert_exporter": "python",
   "file_extension": ".py"
  },
  "interpreter": {
   "hash": "57d46a1f3f975f92cc34d815bf69a7d3644582cc16f1cedc66cb95f17202c91e"
  }
 },
 "nbformat": 4,
 "nbformat_minor": 4
}