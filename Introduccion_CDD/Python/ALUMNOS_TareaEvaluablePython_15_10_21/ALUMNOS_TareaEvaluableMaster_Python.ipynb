{
 "cells": [
  {
   "cell_type": "markdown",
   "metadata": {},
   "source": [
    "<img src=\"idal-logo.png\" align=\"right\" style=\"float\" width=\"400\">\n",
    "<font color=\"#CA3532\"><h1 align=\"left\">Master en Ciencia de Datos</h1></font>\n",
    "<font color=\"#6E6E6E\"><h2 align=\"left\">Tarea Evaluable Python. </h2></font> \n",
    "<font color=\"#6E6E6E\"><h2 align=\"left\">15-10-2021</h2></font> \n",
    "\n",
    "#### Jorge Vila Tomás"
   ]
  },
  {
   "cell_type": "markdown",
   "metadata": {},
   "source": [
    "**Ejercicio 1. (3 puntos)** El Análisis de Componentes Principales (PCA) es una técnica de extracción de características ampliamente utilizada en ciencia de datos. Consiste en obtener un espacio vectorial con las direcciones de máxima varianza de los datos sin transformar.\n",
    "\n",
    "El procedimiento para calcular una PCA consiste en los siguientes pasos:\n",
    "\n",
    "* Se parte de una tabla de datos $X$ en los que en cada una de las $N$ filas es una muestra y cada una de las $M$ columnas  una característica.\n",
    "* Se calcula la matriz de covarianza $\\Sigma=\\frac{1}{N}(X^T·X)$, siendo $N$ el número de muestras de $X$.\n",
    "* Se diagonaliza la matriz de cavarianza, obteniendo los autovalores (eigenvalues $\\lambda_1...\\lambda_M$)  y los autovectores (eigenvectors $\\overrightarrow{v_1}...\\overrightarrow{v_M}$).\n",
    "* Los autovalores ordenados de mayor a menor, constituyen la varianza explicada por cada componente principal, y los vectores asociados a cada autovalor ordenados por orden de autovalor y dispuestos en columnas constiutyen la matriz $P$ de cambio de base.\n",
    "* Las muestras en el espacio transformado se pueden obtener a partir de la siguiente expresión matricial $X_{PCA}=(P^T·X^T)^T$. \n",
    "\n",
    "Implementa las siguientes tareas:\n",
    "\n",
    "1. Estandariza el conjunto de datos ``Boston`` de la librería sckit learn (si no está en tu environment instalala!). La carga del data set está hecha en el notebook. Almacena el resultado en Xstd. (0.5 punto)\n",
    "2. Calcula la matriz de covarianza $\\Sigma$ a partir de la definición. (0.5 puntos)\n",
    "3. Empleando la función ``np.linalg.eig`` de numpy obten los autovalores y los autovectores de la matriz de covarianza. (0.5 puntos)\n",
    "4. Ordena (de mayor a menor valor de autovalor) la matriz de autovectores para obtener la matriz de cambio de base $P$. (0.5 puntos)\n",
    "5. Calcula la varianza acumulada explicada por cada componente principal, para ello debes de ordenar de mayor a menor los autovalores obtenidos con ``np.linalg.eig``, obtener la suma acumulada (``np.cumsum``) de ese vector y dividir por el máximo. (0.5 puntos)\n",
    "6. Obtén la matriz de muestras en el espacio transformado $X_{PCA}$  a partir de la definición. (0.5 puntos)"
   ]
  },
  {
   "cell_type": "code",
   "execution_count": 1,
   "metadata": {},
   "outputs": [
    {
     "name": "stdout",
     "output_type": "stream",
     "text": [
      "(506, 13)\n"
     ]
    }
   ],
   "source": [
    "import numpy as np\n",
    "from sklearn import datasets\n",
    "boston = datasets.load_boston()\n",
    "X = boston.data\n",
    "print(X.shape)\n",
    "\n",
    "#Ejercicio 2.1 Normalización\n",
    "## Aprovechando los métodos .mean() y .std() podemos calcular los parámetros\n",
    "## por columna de forma sencilla especificando axis=0.\n",
    "data_mean = X.mean(axis=0)\n",
    "data_std = X.std(axis=0)\n",
    "Xstd = (X - data_mean)/data_std\n",
    "\n",
    "#Ejercicio 2.2 Covarianza\n",
    "## Hay muchas formas de calcular el producto matricial: matmul, dot y @.\n",
    "## Elegimos esta última por limpieza de código.\n",
    "cov_mat = (1/len(Xstd))*(Xstd.T @ Xstd)\n",
    "\n",
    "#Ejercicio 2.3 Diagonalización\n",
    "eig_val, eig_vec = np.linalg.eig(cov_mat)\n",
    "\n",
    "#Ejercicio 2.4 Obtención de P\n",
    "# Ordenamos los autovectores de mayor a menor autovalor\n",
    "## argsort nos devuelve los índices que ordenan el array de menor a mayor\n",
    "sort_idx = np.argsort(eig_val)\n",
    "## flip nos permite voltear un array, así que lo utilizamos\n",
    "## para dejarlo ordenado de mayor a menor.\n",
    "sort_idx = np.flip(sort_idx)\n",
    "## Finalmente indexamos los arrays originales con los nuevos índices para ordenarlos\n",
    "eig_val_sort = eig_val[sort_idx]\n",
    "eig_vec_sort = eig_vec[sort_idx,:]\n",
    "P = eig_vec_sort.copy()\n",
    "\n",
    "#Ejercicio 2.5 Varianza explicada\n",
    "#Ordenamos los autovalores para comprobar el porcentaje de varianza explicada por cada PC\n",
    "eig_val_cum = np.cumsum(eig_val_sort)\n",
    "eig_val_cum_norm = eig_val_cum / eig_val_cum.max()\n",
    "\n",
    "\n",
    "\n",
    "#Ejercicio 2.6 Xpca\n",
    "#Obtenemos muestras en el espacio transformado\n",
    "Xpca = (P.T @ X.T).T\n",
    "\n",
    "\n"
   ]
  },
  {
   "cell_type": "markdown",
   "metadata": {},
   "source": [
    "**Ejercicio 2. (2 puntos)** Crea una función llamada ``PCA_MCD(X,normaliza)`` con dos arguentos de entrada, un array ``X`` bidimensional de datos para hacer PCA y un booleano ``normaliza`` que si toma el valor ``True`` estandarizará las columnas de X. El valor por defecto de ``Normaliza`` será ``True``. La función debe devolver un array unidimensional con la varianza explicada acumulada."
   ]
  },
  {
   "cell_type": "code",
   "execution_count": 2,
   "metadata": {},
   "outputs": [],
   "source": [
    "def PCA_MCD(X, normaliza=True):\n",
    "    ## Hacemos unas comprobaciones iniciales para aseguraros de que X es un array\n",
    "    ## bidimensional y que normaliza es un booleano.\n",
    "    if not isinstance(X, np.ndarray):\n",
    "        print(f\"X tiene que ser un array pero es de tipo {type(X)}.\")\n",
    "        return\n",
    "    elif len(X.shape) < 2:\n",
    "        print(f\"X tiene que ser un array bidimensional pero solo tiene una dimensión.\")\n",
    "        return\n",
    "    if not isinstance(normaliza, bool):\n",
    "        print(f\"normaliza tiene que ser un array pero es de tipo {type(normaliza)}.\")\n",
    "        return\n",
    "    \n",
    "    ## Comprobamos si es necesario normalizar los datos o no.\n",
    "    if normaliza:\n",
    "        data_mean = X.mean(axis=0)\n",
    "        data_std = X.std(axis=0)\n",
    "        X = (X - data_mean)/data_std\n",
    "    \n",
    "    ## Calculamos la matriz de covarianza.\n",
    "    cov_mat = (1/len(X))*(X.T @ X)\n",
    "\n",
    "    ## Diagonalizamos la matriz de covarianza.\n",
    "    eig_val, eig_vec = np.linalg.eig(cov_mat)\n",
    "\n",
    "    ## Ordenamos los autovalores de mayor a menor.\n",
    "    sort_idx = np.argsort(eig_val)\n",
    "    sort_idx = np.flip(sort_idx)\n",
    "    eig_val_sort = eig_val[sort_idx]\n",
    "\n",
    "    ## Calculamos la varianza explicada acumulada y la normalizamos a 1.\n",
    "    eig_val_cum = np.cumsum(eig_val_sort)\n",
    "    ## Es equivalente dividir por la suma de los valores que dividir por el máximo\n",
    "    ## de la suma acumulada.\n",
    "    eig_val_cum_norm = eig_val_cum / eig_val_cum.max()\n",
    "\n",
    "    return eig_val_cum_norm"
   ]
  },
  {
   "cell_type": "code",
   "execution_count": 3,
   "metadata": {},
   "outputs": [
    {
     "data": {
      "text/plain": [
       "True"
      ]
     },
     "execution_count": 3,
     "metadata": {},
     "output_type": "execute_result"
    }
   ],
   "source": [
    "## Podemos comprobar que obtenemos lo mismo que antes\n",
    "test_pca = PCA_MCD(X, True) \n",
    "(test_pca == eig_val_cum_norm).all()"
   ]
  },
  {
   "cell_type": "markdown",
   "metadata": {},
   "source": [
    "**Ejercicio 3. (1 punto)** Representa un gráfico de línea usando matplolib en el que se represente la varianza explicada acumulada calculada en el ejercicio 2 en función del número de componentes principales. El trazo debe ser discontinuo, de color negro y cada punto re representará con una estrella. ¿Cómo varia los resultados estandarizando y sin estandarizar?"
   ]
  },
  {
   "cell_type": "code",
   "execution_count": 4,
   "metadata": {},
   "outputs": [
    {
     "data": {
      "image/png": "[encoded data removed]",
      "text/plain": [
       "<Figure size 432x288 with 2 Axes>"
      ]
     },
     "metadata": {
      "needs_background": "light"
     },
     "output_type": "display_data"
    }
   ],
   "source": [
    "import matplotlib.pyplot as plt\n",
    "\n",
    "var_no_norm = PCA_MCD(X, normaliza=False)\n",
    "var_norm = PCA_MCD(X, normaliza=True)\n",
    "\n",
    "fig, axes = plt.subplots(nrows=1, ncols=2)\n",
    "\n",
    "axes[0].plot(var_no_norm, '--k*')\n",
    "axes[0].set_title(\"Sin estandarizar\")\n",
    "axes[0].set_ylabel(\"Varianza Explicada Acumulada\")\n",
    "\n",
    "axes[1].plot(var_norm, '--k*')\n",
    "axes[1].set_title(\"Estandarizando\")\n",
    "axes[1].set_ylabel(\"Varianza Explicada Acumulada\")\n",
    "\n",
    "fig.subplots_adjust(wspace=0.4)\n",
    "plt.suptitle(\"Calculo a mano\")\n",
    "\n",
    "plt.show()"
   ]
  },
  {
   "cell_type": "markdown",
   "metadata": {},
   "source": [
    "Podemos aprovechar la implementación de `sklearn` para comprobar si hemos obtenido el resultado correcto:"
   ]
  },
  {
   "cell_type": "code",
   "execution_count": 5,
   "metadata": {},
   "outputs": [],
   "source": [
    "from sklearn.decomposition import PCA"
   ]
  },
  {
   "cell_type": "code",
   "execution_count": 6,
   "metadata": {},
   "outputs": [
    {
     "data": {
      "image/png": "[encoded data removed]",
      "text/plain": [
       "<Figure size 432x288 with 2 Axes>"
      ]
     },
     "metadata": {
      "needs_background": "light"
     },
     "output_type": "display_data"
    }
   ],
   "source": [
    "pca = PCA()\n",
    "pca.fit(X)\n",
    "pca_std = PCA()\n",
    "pca_std.fit(Xstd)\n",
    "\n",
    "fig, axes = plt.subplots(nrows=1, ncols=2)\n",
    "\n",
    "axes[0].plot(np.cumsum(pca.explained_variance_ratio_),'--k*')\n",
    "axes[0].set_title(\"Sin estandarizar\")\n",
    "axes[0].set_ylabel(\"Varianza Explicada Acumulada\")\n",
    "\n",
    "axes[1].plot(np.cumsum(pca_std.explained_variance_ratio_),'--k*')\n",
    "axes[1].set_title(\"Estandarizando\")\n",
    "axes[1].set_ylabel(\"Varianza Explicada Acumulada\")\n",
    "\n",
    "fig.subplots_adjust(wspace=0.4)\n",
    "plt.suptitle(\"Utilizando sklearn\")\n",
    "\n",
    "plt.show()"
   ]
  },
  {
   "cell_type": "markdown",
   "metadata": {},
   "source": [
    "Se puede ver que el resultado es prácticamente igual excepto una pequeña diferencia numérica en el caso sin estandarizar. Esto se debe a que en `sklearn` centran las variables automáticamente, por eso en el caso estandarizado no se ve diferencia, porque ya están centradas."
   ]
  },
  {
   "cell_type": "markdown",
   "metadata": {},
   "source": [
    "**Ejercicio 4. (1 puntos)** Crea una array 8x3 con los enteros entre 20 y 43 de uno en uno. Después crea 4 nuevos arrays 2x3 partiendo el array original de dos en dos filas. "
   ]
  },
  {
   "cell_type": "code",
   "execution_count": 7,
   "metadata": {},
   "outputs": [
    {
     "name": "stdout",
     "output_type": "stream",
     "text": [
      "A (8, 3):\n",
      " [[20 21 22]\n",
      " [23 24 25]\n",
      " [26 27 28]\n",
      " [29 30 31]\n",
      " [32 33 34]\n",
      " [35 36 37]\n",
      " [38 39 40]\n",
      " [41 42 43]]\n",
      "A_1 (2, 3):\n",
      " [[20 21 22]\n",
      " [23 24 25]]\n",
      "A_2 (2, 3):\n",
      " [[26 27 28]\n",
      " [29 30 31]]\n",
      "A_3 (2, 3):\n",
      " [[32 33 34]\n",
      " [35 36 37]]\n",
      "A_4 (2, 3):\n",
      " [[38 39 40]\n",
      " [41 42 43]]\n"
     ]
    }
   ],
   "source": [
    "A = np.arange(start=20, stop=44, step=1).reshape((8,3))\n",
    "print(f\"A {A.shape}:\\n\",A)\n",
    "A_1 = A[0:2,:]\n",
    "A_2 = A[2:4,:]\n",
    "A_3 = A[4:6,:]\n",
    "A_4 = A[6:8,:]\n",
    "print(f\"A_1 {A_1.shape}:\\n\",A_1)\n",
    "print(f\"A_2 {A_2.shape}:\\n\",A_2)\n",
    "print(f\"A_3 {A_3.shape}:\\n\",A_3)\n",
    "print(f\"A_4 {A_4.shape}:\\n\",A_4)"
   ]
  },
  {
   "cell_type": "markdown",
   "metadata": {},
   "source": [
    "**Ejercicio 5. (1.5 puntos)** Carga el dataset `Coches_dataset_jgx_I.csv` empleando la librería `pandas` y sus funciones de importación.\n",
    "\n",
    "* Una vez cargado, visualiza las 5 primeras muestras del data frame.\n",
    "* Averigua el número de muestras del data frame.\n",
    "* Averigua el número de variables.\n",
    "* Crea una diccionario cuyas claves contengan las posición de la columna y el valor los nombres de las variables del dataframe.\n"
   ]
  },
  {
   "cell_type": "code",
   "execution_count": 8,
   "metadata": {},
   "outputs": [],
   "source": [
    "import pandas as pd"
   ]
  },
  {
   "cell_type": "code",
   "execution_count": 9,
   "metadata": {},
   "outputs": [
    {
     "name": "stdout",
     "output_type": "stream",
     "text": [
      "El DataFrame tiene 61 filas y 10 columnas.\n"
     ]
    },
    {
     "data": {
      "text/html": [
       "<div>\n",
       "<style scoped>\n",
       "    .dataframe tbody tr th:only-of-type {\n",
       "        vertical-align: middle;\n",
       "    }\n",
       "\n",
       "    .dataframe tbody tr th {\n",
       "        vertical-align: top;\n",
       "    }\n",
       "\n",
       "    .dataframe thead th {\n",
       "        text-align: right;\n",
       "    }\n",
       "</style>\n",
       "<table border=\"1\" class=\"dataframe\">\n",
       "  <thead>\n",
       "    <tr style=\"text-align: right;\">\n",
       "      <th></th>\n",
       "      <th>index</th>\n",
       "      <th>company</th>\n",
       "      <th>body-style</th>\n",
       "      <th>wheel-base</th>\n",
       "      <th>length</th>\n",
       "      <th>engine-type</th>\n",
       "      <th>num-of-cylinders</th>\n",
       "      <th>horsepower</th>\n",
       "      <th>average-mileage</th>\n",
       "      <th>price</th>\n",
       "    </tr>\n",
       "  </thead>\n",
       "  <tbody>\n",
       "    <tr>\n",
       "      <th>0</th>\n",
       "      <td>0</td>\n",
       "      <td>alfa-romero</td>\n",
       "      <td>convertible</td>\n",
       "      <td>88.6</td>\n",
       "      <td>168.8</td>\n",
       "      <td>dohc</td>\n",
       "      <td>four</td>\n",
       "      <td>111</td>\n",
       "      <td>21</td>\n",
       "      <td>13495</td>\n",
       "    </tr>\n",
       "    <tr>\n",
       "      <th>1</th>\n",
       "      <td>1</td>\n",
       "      <td>alfa-romero</td>\n",
       "      <td>convertible</td>\n",
       "      <td>88.6</td>\n",
       "      <td>168.8</td>\n",
       "      <td>dohc</td>\n",
       "      <td>four</td>\n",
       "      <td>111</td>\n",
       "      <td>21</td>\n",
       "      <td>16500</td>\n",
       "    </tr>\n",
       "    <tr>\n",
       "      <th>2</th>\n",
       "      <td>2</td>\n",
       "      <td>alfa-romero</td>\n",
       "      <td>hatchback</td>\n",
       "      <td>94.5</td>\n",
       "      <td>171.2</td>\n",
       "      <td>ohcv</td>\n",
       "      <td>six</td>\n",
       "      <td>154</td>\n",
       "      <td>19</td>\n",
       "      <td>16500</td>\n",
       "    </tr>\n",
       "    <tr>\n",
       "      <th>3</th>\n",
       "      <td>3</td>\n",
       "      <td>audi</td>\n",
       "      <td>sedan</td>\n",
       "      <td>99.8</td>\n",
       "      <td>176.6</td>\n",
       "      <td>ohc</td>\n",
       "      <td>four</td>\n",
       "      <td>102</td>\n",
       "      <td>24</td>\n",
       "      <td>13950</td>\n",
       "    </tr>\n",
       "    <tr>\n",
       "      <th>4</th>\n",
       "      <td>4</td>\n",
       "      <td>audi</td>\n",
       "      <td>sedan</td>\n",
       "      <td>99.4</td>\n",
       "      <td>176.6</td>\n",
       "      <td>ohc</td>\n",
       "      <td>five</td>\n",
       "      <td>115</td>\n",
       "      <td>18</td>\n",
       "      <td>17450</td>\n",
       "    </tr>\n",
       "  </tbody>\n",
       "</table>\n",
       "</div>"
      ],
      "text/plain": [
       "   index      company   body-style  wheel-base  length engine-type  \\\n",
       "0      0  alfa-romero  convertible        88.6   168.8        dohc   \n",
       "1      1  alfa-romero  convertible        88.6   168.8        dohc   \n",
       "2      2  alfa-romero    hatchback        94.5   171.2        ohcv   \n",
       "3      3         audi        sedan        99.8   176.6         ohc   \n",
       "4      4         audi        sedan        99.4   176.6         ohc   \n",
       "\n",
       "  num-of-cylinders  horsepower  average-mileage  price  \n",
       "0             four         111               21  13495  \n",
       "1             four         111               21  16500  \n",
       "2              six         154               19  16500  \n",
       "3             four         102               24  13950  \n",
       "4             five         115               18  17450  "
      ]
     },
     "execution_count": 9,
     "metadata": {},
     "output_type": "execute_result"
    }
   ],
   "source": [
    "## Para cargarlo correctamente tenemos que específicar que el separador es ;\n",
    "df = pd.read_csv(\"Coches_dataset_jgx_I.csv\", sep=\";\")\n",
    "print(\"El DataFrame tiene {} filas y {} columnas.\".format(*df.shape))\n",
    "## El método .head(n) permite ver las n primeras filas.\n",
    "df.head(5)"
   ]
  },
  {
   "cell_type": "code",
   "execution_count": 10,
   "metadata": {},
   "outputs": [
    {
     "data": {
      "text/plain": [
       "(61, 61)"
      ]
     },
     "execution_count": 10,
     "metadata": {},
     "output_type": "execute_result"
    }
   ],
   "source": [
    "# Número de muestras (podemos obtenerlo de formas distintas)\n",
    "n_muestras = len(df)\n",
    "n_muestras_2 = df.shape[0]\n",
    "n_muestras, n_muestras_2"
   ]
  },
  {
   "cell_type": "code",
   "execution_count": 11,
   "metadata": {},
   "outputs": [
    {
     "data": {
      "text/plain": [
       "10"
      ]
     },
     "execution_count": 11,
     "metadata": {},
     "output_type": "execute_result"
    }
   ],
   "source": [
    "# Número de variables\n",
    "n_variables = df.shape[1]\n",
    "n_variables"
   ]
  },
  {
   "cell_type": "code",
   "execution_count": 12,
   "metadata": {
    "scrolled": true
   },
   "outputs": [
    {
     "data": {
      "text/plain": [
       "{0: 'index',\n",
       " 1: 'company',\n",
       " 2: 'body-style',\n",
       " 3: 'wheel-base',\n",
       " 4: 'length',\n",
       " 5: 'engine-type',\n",
       " 6: 'num-of-cylinders',\n",
       " 7: 'horsepower',\n",
       " 8: 'average-mileage',\n",
       " 9: 'price'}"
      ]
     },
     "execution_count": 12,
     "metadata": {},
     "output_type": "execute_result"
    }
   ],
   "source": [
    "# Diccionario posición_columnas:nombres_columnas\n",
    "pos_nombre = {i:nombre for i,nombre in enumerate(df.columns)}\n",
    "pos_nombre"
   ]
  },
  {
   "cell_type": "markdown",
   "metadata": {},
   "source": [
    "**Ejercicio 6. (1.5 puntos)** Limpieza de un dataframe.\n",
    "\n",
    "* En el data frame existen datos ausentes codificados con símbolos `\"?\"` y `\"n.a\"`, reemplaza estos valores por `NaN`. Puedes tirar de sentencias de control, pero si eres hábil puedes utilizar una opción del  método `read_csv` para que en la carga del fichero se lleve a cabo lo que te pido. Almacena el resultado un data frame denominado `df_clean`.\n",
    "\n",
    "* Elimina la columna `index` del dataframe.\n",
    "* Elimina aquellas muestras que contengan algún NaN.\n",
    "* Almacena el data frame `df_clean` en el fichero  `Coches_dataset_jgx_I_clean.csv`empleando como delimitador de datos `;` y sin almacenar el índice de la muestra."
   ]
  },
  {
   "cell_type": "code",
   "execution_count": 13,
   "metadata": {},
   "outputs": [
    {
     "name": "stdout",
     "output_type": "stream",
     "text": [
      "df tiene 3 valores nulos y df_clean tiene 9.\n"
     ]
    }
   ],
   "source": [
    "## La forma más sencilla de hacerlo es volver a cargar el dataframe utilizando el parámetro\n",
    "## na_values para específicar que \"?\" y \"n.a\" también tienen que ser considerados NAs\n",
    "df_clean = pd.read_csv(\"Coches_dataset_jgx_I.csv\", sep=\";\", na_values=[\"?\", \"n.a\"])\n",
    "print(f\"df tiene {df.isna().sum().sum()} valores nulos y df_clean tiene {df_clean.isna().sum().sum()}.\")"
   ]
  },
  {
   "cell_type": "code",
   "execution_count": 14,
   "metadata": {},
   "outputs": [
    {
     "data": {
      "text/html": [
       "<div>\n",
       "<style scoped>\n",
       "    .dataframe tbody tr th:only-of-type {\n",
       "        vertical-align: middle;\n",
       "    }\n",
       "\n",
       "    .dataframe tbody tr th {\n",
       "        vertical-align: top;\n",
       "    }\n",
       "\n",
       "    .dataframe thead th {\n",
       "        text-align: right;\n",
       "    }\n",
       "</style>\n",
       "<table border=\"1\" class=\"dataframe\">\n",
       "  <thead>\n",
       "    <tr style=\"text-align: right;\">\n",
       "      <th></th>\n",
       "      <th>company</th>\n",
       "      <th>body-style</th>\n",
       "      <th>wheel-base</th>\n",
       "      <th>length</th>\n",
       "      <th>engine-type</th>\n",
       "      <th>num-of-cylinders</th>\n",
       "      <th>horsepower</th>\n",
       "      <th>average-mileage</th>\n",
       "      <th>price</th>\n",
       "    </tr>\n",
       "  </thead>\n",
       "  <tbody>\n",
       "    <tr>\n",
       "      <th>0</th>\n",
       "      <td>alfa-romero</td>\n",
       "      <td>convertible</td>\n",
       "      <td>88.6</td>\n",
       "      <td>168.8</td>\n",
       "      <td>dohc</td>\n",
       "      <td>four</td>\n",
       "      <td>111</td>\n",
       "      <td>21</td>\n",
       "      <td>13495.0</td>\n",
       "    </tr>\n",
       "    <tr>\n",
       "      <th>1</th>\n",
       "      <td>alfa-romero</td>\n",
       "      <td>convertible</td>\n",
       "      <td>88.6</td>\n",
       "      <td>168.8</td>\n",
       "      <td>dohc</td>\n",
       "      <td>four</td>\n",
       "      <td>111</td>\n",
       "      <td>21</td>\n",
       "      <td>16500.0</td>\n",
       "    </tr>\n",
       "    <tr>\n",
       "      <th>2</th>\n",
       "      <td>alfa-romero</td>\n",
       "      <td>hatchback</td>\n",
       "      <td>94.5</td>\n",
       "      <td>171.2</td>\n",
       "      <td>ohcv</td>\n",
       "      <td>six</td>\n",
       "      <td>154</td>\n",
       "      <td>19</td>\n",
       "      <td>16500.0</td>\n",
       "    </tr>\n",
       "    <tr>\n",
       "      <th>3</th>\n",
       "      <td>audi</td>\n",
       "      <td>sedan</td>\n",
       "      <td>99.8</td>\n",
       "      <td>176.6</td>\n",
       "      <td>ohc</td>\n",
       "      <td>four</td>\n",
       "      <td>102</td>\n",
       "      <td>24</td>\n",
       "      <td>13950.0</td>\n",
       "    </tr>\n",
       "    <tr>\n",
       "      <th>4</th>\n",
       "      <td>audi</td>\n",
       "      <td>sedan</td>\n",
       "      <td>99.4</td>\n",
       "      <td>176.6</td>\n",
       "      <td>ohc</td>\n",
       "      <td>five</td>\n",
       "      <td>115</td>\n",
       "      <td>18</td>\n",
       "      <td>17450.0</td>\n",
       "    </tr>\n",
       "  </tbody>\n",
       "</table>\n",
       "</div>"
      ],
      "text/plain": [
       "       company   body-style  wheel-base  length engine-type num-of-cylinders  \\\n",
       "0  alfa-romero  convertible        88.6   168.8        dohc             four   \n",
       "1  alfa-romero  convertible        88.6   168.8        dohc             four   \n",
       "2  alfa-romero    hatchback        94.5   171.2        ohcv              six   \n",
       "3         audi        sedan        99.8   176.6         ohc             four   \n",
       "4         audi        sedan        99.4   176.6         ohc             five   \n",
       "\n",
       "   horsepower  average-mileage    price  \n",
       "0         111               21  13495.0  \n",
       "1         111               21  16500.0  \n",
       "2         154               19  16500.0  \n",
       "3         102               24  13950.0  \n",
       "4         115               18  17450.0  "
      ]
     },
     "execution_count": 14,
     "metadata": {},
     "output_type": "execute_result"
    }
   ],
   "source": [
    "# Elimina la columna index del dataframe\n",
    "## Lo podemos hacer utilizando drop o pop, pero drop es más cómodo\n",
    "## Lo hacemos inplace para no tener que sobreescribir la variable.\n",
    "df_clean.drop(labels=\"index\", axis=1, inplace=True)\n",
    "df_clean.head()"
   ]
  },
  {
   "cell_type": "code",
   "execution_count": 15,
   "metadata": {},
   "outputs": [
    {
     "name": "stdout",
     "output_type": "stream",
     "text": [
      "Comprobamos que tenemos 0 NaNs después de la limpieza.\n"
     ]
    }
   ],
   "source": [
    "# Elimina los NaNs\n",
    "## Es muy sencillo de realizar si utilizamos el método .dropna()\n",
    "df_clean.dropna(inplace=True)\n",
    "print(f\"Comprobamos que tenemos {df_clean.isna().sum().sum()} NaNs después de la limpieza.\")"
   ]
  },
  {
   "cell_type": "code",
   "execution_count": 16,
   "metadata": {},
   "outputs": [],
   "source": [
    "# Almacenamos df_clean en un archivo csv con separador ; y sin índice\n",
    "df_clean.to_csv('Coches_dataset_jgx_I_clean.csv', sep=\";\", index=False)"
   ]
  },
  {
   "cell_type": "markdown",
   "metadata": {},
   "source": [
    "**Ejercicio extra Seaborn. (1 puntos)** \n",
    "\n",
    "* Carga el fichero `Coches_dataset_jgx_I_clean.csv` obtenido en el último apartado del ejercicio anterior.\n",
    "* Representa un diagrama de barras en el que en el `eje x` se visualice cada una de las marcas de los coches y en el `eje y` el precio medio de esa marca.\n",
    "* Representa, en la misma figura, dos histogramas correspondientes a la variable precio. Cada histograma mostrará la distribución de precios correspondientes a los coches de más de 130 caballos y de menos de 130 caballos. Los histogramas deberán contener 9 bins y el estilo de ambos será diferente para poder observar ambas distribuciones."
   ]
  },
  {
   "cell_type": "code",
   "execution_count": 17,
   "metadata": {},
   "outputs": [
    {
     "data": {
      "text/html": [
       "<div>\n",
       "<style scoped>\n",
       "    .dataframe tbody tr th:only-of-type {\n",
       "        vertical-align: middle;\n",
       "    }\n",
       "\n",
       "    .dataframe tbody tr th {\n",
       "        vertical-align: top;\n",
       "    }\n",
       "\n",
       "    .dataframe thead th {\n",
       "        text-align: right;\n",
       "    }\n",
       "</style>\n",
       "<table border=\"1\" class=\"dataframe\">\n",
       "  <thead>\n",
       "    <tr style=\"text-align: right;\">\n",
       "      <th></th>\n",
       "      <th>company</th>\n",
       "      <th>body-style</th>\n",
       "      <th>wheel-base</th>\n",
       "      <th>length</th>\n",
       "      <th>engine-type</th>\n",
       "      <th>num-of-cylinders</th>\n",
       "      <th>horsepower</th>\n",
       "      <th>average-mileage</th>\n",
       "      <th>price</th>\n",
       "    </tr>\n",
       "  </thead>\n",
       "  <tbody>\n",
       "    <tr>\n",
       "      <th>0</th>\n",
       "      <td>alfa-romero</td>\n",
       "      <td>convertible</td>\n",
       "      <td>88.6</td>\n",
       "      <td>168.8</td>\n",
       "      <td>dohc</td>\n",
       "      <td>four</td>\n",
       "      <td>111</td>\n",
       "      <td>21</td>\n",
       "      <td>13495.0</td>\n",
       "    </tr>\n",
       "    <tr>\n",
       "      <th>1</th>\n",
       "      <td>alfa-romero</td>\n",
       "      <td>convertible</td>\n",
       "      <td>88.6</td>\n",
       "      <td>168.8</td>\n",
       "      <td>dohc</td>\n",
       "      <td>four</td>\n",
       "      <td>111</td>\n",
       "      <td>21</td>\n",
       "      <td>16500.0</td>\n",
       "    </tr>\n",
       "    <tr>\n",
       "      <th>2</th>\n",
       "      <td>alfa-romero</td>\n",
       "      <td>hatchback</td>\n",
       "      <td>94.5</td>\n",
       "      <td>171.2</td>\n",
       "      <td>ohcv</td>\n",
       "      <td>six</td>\n",
       "      <td>154</td>\n",
       "      <td>19</td>\n",
       "      <td>16500.0</td>\n",
       "    </tr>\n",
       "    <tr>\n",
       "      <th>3</th>\n",
       "      <td>audi</td>\n",
       "      <td>sedan</td>\n",
       "      <td>99.8</td>\n",
       "      <td>176.6</td>\n",
       "      <td>ohc</td>\n",
       "      <td>four</td>\n",
       "      <td>102</td>\n",
       "      <td>24</td>\n",
       "      <td>13950.0</td>\n",
       "    </tr>\n",
       "    <tr>\n",
       "      <th>4</th>\n",
       "      <td>audi</td>\n",
       "      <td>sedan</td>\n",
       "      <td>99.4</td>\n",
       "      <td>176.6</td>\n",
       "      <td>ohc</td>\n",
       "      <td>five</td>\n",
       "      <td>115</td>\n",
       "      <td>18</td>\n",
       "      <td>17450.0</td>\n",
       "    </tr>\n",
       "  </tbody>\n",
       "</table>\n",
       "</div>"
      ],
      "text/plain": [
       "       company   body-style  wheel-base  length engine-type num-of-cylinders  \\\n",
       "0  alfa-romero  convertible        88.6   168.8        dohc             four   \n",
       "1  alfa-romero  convertible        88.6   168.8        dohc             four   \n",
       "2  alfa-romero    hatchback        94.5   171.2        ohcv              six   \n",
       "3         audi        sedan        99.8   176.6         ohc             four   \n",
       "4         audi        sedan        99.4   176.6         ohc             five   \n",
       "\n",
       "   horsepower  average-mileage    price  \n",
       "0         111               21  13495.0  \n",
       "1         111               21  16500.0  \n",
       "2         154               19  16500.0  \n",
       "3         102               24  13950.0  \n",
       "4         115               18  17450.0  "
      ]
     },
     "execution_count": 17,
     "metadata": {},
     "output_type": "execute_result"
    }
   ],
   "source": [
    "df_clean_cargado = pd.read_csv(\"Coches_dataset_jgx_I_clean.csv\", sep=\";\")\n",
    "df_clean_cargado.head()"
   ]
  },
  {
   "cell_type": "code",
   "execution_count": 18,
   "metadata": {},
   "outputs": [],
   "source": [
    "import seaborn as sns"
   ]
  },
  {
   "cell_type": "code",
   "execution_count": 19,
   "metadata": {},
   "outputs": [
    {
     "data": {
      "image/png": "[encoded data removed]",
      "text/plain": [
       "<Figure size 432x288 with 1 Axes>"
      ]
     },
     "metadata": {
      "needs_background": "light"
     },
     "output_type": "display_data"
    }
   ],
   "source": [
    "## Seaborn calcula la media por defecto, pero si quisiesemos calcular otra cosa\n",
    "## tendríamos que especificarlo en el parámetro estimator\n",
    "plt.figure()\n",
    "sns.barplot(data=df_clean_cargado, x=\"company\", y=\"price\")\n",
    "plt.title(\"Precio Medio por Marca\")\n",
    "plt.xticks(rotation=90)\n",
    "plt.xlabel(\"Marca\")\n",
    "plt.ylabel(\"Precio Medio\")\n",
    "plt.show()"
   ]
  },
  {
   "cell_type": "markdown",
   "metadata": {},
   "source": [
    "A la hora de representar variables filtradas en el momento, la sintaxis de `Seaborn` se vuelve un poco más liosa y se acerca más a `Matplotlib` como podemos ver:"
   ]
  },
  {
   "cell_type": "code",
   "execution_count": 20,
   "metadata": {},
   "outputs": [
    {
     "data": {
      "image/png": "[encoded data removed]",
      "text/plain": [
       "<Figure size 432x288 with 1 Axes>"
      ]
     },
     "metadata": {
      "needs_background": "light"
     },
     "output_type": "display_data"
    }
   ],
   "source": [
    "plt.figure()\n",
    "sns.histplot(data=df_clean_cargado[df_clean_cargado.horsepower>=130], x=\"price\", bins=9)\n",
    "sns.histplot(data=df_clean_cargado[df_clean_cargado.horsepower<130], x=\"price\", bins=9, fill=False, color='orange')\n",
    "plt.title(\"Utilizando Seaborn\")\n",
    "plt.xlabel(\"Precio\")\n",
    "plt.ylabel(\"Cuentas\")\n",
    "plt.legend([\"Caballos >= 130\", \"Caballos < 130\"])\n",
    "plt.show()"
   ]
  },
  {
   "cell_type": "code",
   "execution_count": 21,
   "metadata": {},
   "outputs": [
    {
     "data": {
      "image/png": "[encoded data removed]",
      "text/plain": [
       "<Figure size 432x288 with 1 Axes>"
      ]
     },
     "metadata": {
      "needs_background": "light"
     },
     "output_type": "display_data"
    }
   ],
   "source": [
    "plt.figure()\n",
    "plt.hist(df_clean_cargado[df_clean_cargado.horsepower>=130].price, bins=9, label=\"Caballos >=130\")\n",
    "plt.hist(df_clean_cargado[df_clean_cargado.horsepower<130].price, bins=9, histtype='step', label=\"Caballos < 130\")\n",
    "plt.title(\"Utilizando Matplotlib\")\n",
    "plt.xlabel(\"Precio\")\n",
    "plt.ylabel(\"Cuentas\")\n",
    "plt.legend()\n",
    "plt.show()"
   ]
  },
  {
   "cell_type": "markdown",
   "metadata": {},
   "source": [
    "Aún así, podemos seguir aprovechando las ventajas de `Seaborn` si nos creamos una nueva columna que nos sirva de filtro y utilizamos el parámetro `hue` de `histplot()` para filtrar los datos:"
   ]
  },
  {
   "cell_type": "code",
   "execution_count": 22,
   "metadata": {},
   "outputs": [
    {
     "data": {
      "text/html": [
       "<div>\n",
       "<style scoped>\n",
       "    .dataframe tbody tr th:only-of-type {\n",
       "        vertical-align: middle;\n",
       "    }\n",
       "\n",
       "    .dataframe tbody tr th {\n",
       "        vertical-align: top;\n",
       "    }\n",
       "\n",
       "    .dataframe thead th {\n",
       "        text-align: right;\n",
       "    }\n",
       "</style>\n",
       "<table border=\"1\" class=\"dataframe\">\n",
       "  <thead>\n",
       "    <tr style=\"text-align: right;\">\n",
       "      <th></th>\n",
       "      <th>company</th>\n",
       "      <th>body-style</th>\n",
       "      <th>wheel-base</th>\n",
       "      <th>length</th>\n",
       "      <th>engine-type</th>\n",
       "      <th>num-of-cylinders</th>\n",
       "      <th>horsepower</th>\n",
       "      <th>average-mileage</th>\n",
       "      <th>price</th>\n",
       "      <th>hp130</th>\n",
       "    </tr>\n",
       "  </thead>\n",
       "  <tbody>\n",
       "    <tr>\n",
       "      <th>0</th>\n",
       "      <td>alfa-romero</td>\n",
       "      <td>convertible</td>\n",
       "      <td>88.6</td>\n",
       "      <td>168.8</td>\n",
       "      <td>dohc</td>\n",
       "      <td>four</td>\n",
       "      <td>111</td>\n",
       "      <td>21</td>\n",
       "      <td>13495.0</td>\n",
       "      <td>False</td>\n",
       "    </tr>\n",
       "    <tr>\n",
       "      <th>1</th>\n",
       "      <td>alfa-romero</td>\n",
       "      <td>convertible</td>\n",
       "      <td>88.6</td>\n",
       "      <td>168.8</td>\n",
       "      <td>dohc</td>\n",
       "      <td>four</td>\n",
       "      <td>111</td>\n",
       "      <td>21</td>\n",
       "      <td>16500.0</td>\n",
       "      <td>False</td>\n",
       "    </tr>\n",
       "    <tr>\n",
       "      <th>2</th>\n",
       "      <td>alfa-romero</td>\n",
       "      <td>hatchback</td>\n",
       "      <td>94.5</td>\n",
       "      <td>171.2</td>\n",
       "      <td>ohcv</td>\n",
       "      <td>six</td>\n",
       "      <td>154</td>\n",
       "      <td>19</td>\n",
       "      <td>16500.0</td>\n",
       "      <td>True</td>\n",
       "    </tr>\n",
       "    <tr>\n",
       "      <th>3</th>\n",
       "      <td>audi</td>\n",
       "      <td>sedan</td>\n",
       "      <td>99.8</td>\n",
       "      <td>176.6</td>\n",
       "      <td>ohc</td>\n",
       "      <td>four</td>\n",
       "      <td>102</td>\n",
       "      <td>24</td>\n",
       "      <td>13950.0</td>\n",
       "      <td>False</td>\n",
       "    </tr>\n",
       "    <tr>\n",
       "      <th>4</th>\n",
       "      <td>audi</td>\n",
       "      <td>sedan</td>\n",
       "      <td>99.4</td>\n",
       "      <td>176.6</td>\n",
       "      <td>ohc</td>\n",
       "      <td>five</td>\n",
       "      <td>115</td>\n",
       "      <td>18</td>\n",
       "      <td>17450.0</td>\n",
       "      <td>False</td>\n",
       "    </tr>\n",
       "  </tbody>\n",
       "</table>\n",
       "</div>"
      ],
      "text/plain": [
       "       company   body-style  wheel-base  length engine-type num-of-cylinders  \\\n",
       "0  alfa-romero  convertible        88.6   168.8        dohc             four   \n",
       "1  alfa-romero  convertible        88.6   168.8        dohc             four   \n",
       "2  alfa-romero    hatchback        94.5   171.2        ohcv              six   \n",
       "3         audi        sedan        99.8   176.6         ohc             four   \n",
       "4         audi        sedan        99.4   176.6         ohc             five   \n",
       "\n",
       "   horsepower  average-mileage    price  hp130  \n",
       "0         111               21  13495.0  False  \n",
       "1         111               21  16500.0  False  \n",
       "2         154               19  16500.0   True  \n",
       "3         102               24  13950.0  False  \n",
       "4         115               18  17450.0  False  "
      ]
     },
     "execution_count": 22,
     "metadata": {},
     "output_type": "execute_result"
    }
   ],
   "source": [
    "df_clean_cargado[\"hp130\"] = df_clean_cargado.horsepower>=130\n",
    "df_clean_cargado.head()"
   ]
  },
  {
   "cell_type": "code",
   "execution_count": 23,
   "metadata": {},
   "outputs": [
    {
     "data": {
      "image/png": "[encoded data removed]",
      "text/plain": [
       "<Figure size 432x288 with 1 Axes>"
      ]
     },
     "metadata": {
      "needs_background": "light"
     },
     "output_type": "display_data"
    }
   ],
   "source": [
    "plt.figure()\n",
    "sns.histplot(data=df_clean_cargado, x=\"price\", bins=9, hue='hp130', hue_order=[True, False])\n",
    "plt.title(\"Utilizando Seaborn (hue)\")\n",
    "plt.xlabel(\"Precio\")\n",
    "plt.ylabel(\"Cuentas\")\n",
    "plt.legend([\"Caballos >= 130\", \"Caballos < 130\"])\n",
    "plt.show()"
   ]
  },
  {
   "cell_type": "markdown",
   "metadata": {},
   "source": [
    "Es importante darse cuenta de que en este último caso, los bines de los dos plots son compartidos, mientras que en los plots anteriores, como hacíamos un histograma por cada plot, los bines no eran los mismos exactamente."
   ]
  }
 ],
 "metadata": {
  "interpreter": {
   "hash": "57d46a1f3f975f92cc34d815bf69a7d3644582cc16f1cedc66cb95f17202c91e"
  },
  "kernelspec": {
   "display_name": "Python 3.8.12 64-bit ('Master': conda)",
   "name": "python3"
  },
  "language_info": {
   "codemirror_mode": {
    "name": "ipython",
    "version": 3
   },
   "file_extension": ".py",
   "mimetype": "text/x-python",
   "name": "python",
   "nbconvert_exporter": "python",
   "pygments_lexer": "ipython3",
   "version": "3.8.12"
  }
 },
 "nbformat": 4,
 "nbformat_minor": 4
}
