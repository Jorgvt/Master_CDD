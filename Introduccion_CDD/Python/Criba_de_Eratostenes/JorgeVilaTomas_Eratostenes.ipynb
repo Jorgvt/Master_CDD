{
 "cells": [
  {
   "cell_type": "markdown",
   "source": [
    "<img src=\"idal-logo.png\" align=\"right\" style=\"float\" width=\"400\">\r\n",
    "<font color=\"#CA3532\"><h1 align=\"left\">Master en Ciencia de Datos</h1></font>\r\n",
    "<font color=\"#6E6E6E\"><h2 align=\"left\">Tarea Extra 1. </h2></font> \r\n",
    "<font color=\"#6E6E6E\"><h2 align=\"left\">23-09-2021 </h2></font> \r\n",
    "\r\n",
    "#### Jorge Vila Tomás"
   ],
   "metadata": {}
  },
  {
   "cell_type": "markdown",
   "source": [
    "**Ejercicio 1. (2 puntos)** La criba de Eratóstenes es un método ideado por Eratóstenes, para conseguir los números primos entre el 1 y un determinado número entero n. Este ejercicio permite poner en práctica muchas de las sentencias de control que hemos visto.\n",
    "\n",
    "\n",
    "La criba de Eratostenes se puede programar como un algoritmo que consiste en formar  una tabla con todos los números naturales comprendidos entre 2 y n,  se van tachando los números que no son primos de la siguiente manera: \n",
    "\n",
    "* Comenzando por el 2 (considerado primo), se tachan todos sus múltiplos.\n",
    "* Comenzando de nuevo, cuando se encuentra un número entero que no ha sido tachado, ese número es declarado primo, y se procede a tachar todos sus múltiplos.\n",
    "* El proceso se repite iterativamente. El proceso termina cuando el cuadrado del siguiente número confirmado como primo es mayor que n.\n",
    "\n",
    "Con todo esto, \n",
    "\n",
    "* Programa un script en un segmento que devuelva los número primos inferiores o iguales a `n`, siendo `n` una variable de tipo entero cuyo valor será 100. \n",
    "\n",
    "* El tipo computacional de `n` es entero, modifica el código anterior para que si se introduce un valor real como argumento de la función, no devuelva error y  muestre un mensaje por pantalla informando al usuario de que el argumento sea entero."
   ],
   "metadata": {}
  },
  {
   "cell_type": "markdown",
   "source": [
    "# Solución"
   ],
   "metadata": {}
  },
  {
   "cell_type": "markdown",
   "source": [
    "Como el algoritmo se basa en quitar múltiplos de una lista varias veces, podemos definir una función que haga esto para no tener que repetir trozos de código y aumentar la legibilidad."
   ],
   "metadata": {}
  },
  {
   "cell_type": "markdown",
   "source": [
    "La forma más fácil de hacerlo es iterar sobre la lista y utilizar el método `.remove()` para quitar los elementos, pero es poco eficiente y requiere copiar la lista porque no es buena práctica modificar un elemento sobre el que se está iterando:"
   ],
   "metadata": {}
  },
  {
   "cell_type": "code",
   "execution_count": 1,
   "source": [
    "def remove_multiples(numbers, n):\r\n",
    "    \"\"\"\r\n",
    "    Quita todos los múltiplos de n de la lista numbers.\r\n",
    "\r\n",
    "    Parameters\r\n",
    "    ----------\r\n",
    "    numbers: list\r\n",
    "        List de números.\r\n",
    "    n: int\r\n",
    "        Número del cual queremos eliminar los múltiplos.\r\n",
    "\r\n",
    "    Returns\r\n",
    "    -------\r\n",
    "    numbers sin los múltiplos de n\r\n",
    "    \"\"\"\r\n",
    "    temp = numbers.copy()\r\n",
    "    for i in numbers:\r\n",
    "        if i%n == 0:\r\n",
    "            temp.remove(i)\r\n",
    "    return temp"
   ],
   "outputs": [],
   "metadata": {}
  },
  {
   "cell_type": "markdown",
   "source": [
    "La forma más eficiente es crear una lista nueva a partir de la anterior con una comprensión de lista, lo cual es ligeramente más eficiente y elegante:"
   ],
   "metadata": {}
  },
  {
   "cell_type": "code",
   "execution_count": 2,
   "source": [
    "def remove_multiples(numbers, n):\r\n",
    "    \"\"\"\r\n",
    "    Quita todos los múltiplos de n de la lista numbers.\r\n",
    "\r\n",
    "    Parameters\r\n",
    "    ----------\r\n",
    "    numbers: list\r\n",
    "        List de números.\r\n",
    "    n: int\r\n",
    "        Número del cual queremos eliminar los múltiplos.\r\n",
    "\r\n",
    "    Returns\r\n",
    "    -------\r\n",
    "    numbers sin los múltiplos de n\r\n",
    "    \"\"\"\r\n",
    "    return [i for i in numbers if i%n]"
   ],
   "outputs": [],
   "metadata": {}
  },
  {
   "cell_type": "markdown",
   "source": [
    "Ahora ya podemos definir el _core_ de la función. Como se puede ver, creamos una lista de primos inicializada directamente con 1 y 2 porque como lo primero que hacemos es quitar el 2 y todos sus múltiplos, no los cogeríamos si no. \r\n",
    "> En realidad el 1 no debería ser considerado primo porque no tiene dos divisores (1 y si mismo), aunque lo hemos considerado por convención."
   ],
   "metadata": {}
  },
  {
   "cell_type": "code",
   "execution_count": 3,
   "source": [
    "def eratostenes(n):\r\n",
    "    \"\"\"\r\n",
    "    Devuelve todos los números primos hasta n.\r\n",
    "\r\n",
    "    Parameters\r\n",
    "    ----------\r\n",
    "    n: int\r\n",
    "        Número máximo que hasta el que queremos calcular los números primos.\r\n",
    "    \r\n",
    "    Returns\r\n",
    "    -------\r\n",
    "    primos + table: list\r\n",
    "        Lista de números primos hasta n.\r\n",
    "    \"\"\"\r\n",
    "    # Creamos una tabla con todos los números naturales comprendidos entre 2 y n\r\n",
    "    table = list(range(2,n+1)) # Le sumamos uno porque no coge el final del intervalo\r\n",
    "\r\n",
    "    # Tachamos todos los múltiplos de 2 (2 incluido)\r\n",
    "    table = remove_multiples(table, 2)\r\n",
    "\r\n",
    "    # Creamos la lista donde almacenaremos los primos, incluyendo los dos primeros que estarán siempre\r\n",
    "    primos = [1, 2]\r\n",
    "    \r\n",
    "    # Recorremos la lista marcando como primos y tachando los múltiplos\r\n",
    "    while primos[-1]**2 < n:\r\n",
    "        if table[0] not in primos:\r\n",
    "            primos.append(table[0])\r\n",
    "\r\n",
    "        table = remove_multiples(table, primos[-1])\r\n",
    "    \r\n",
    "    return primos + table\r\n"
   ],
   "outputs": [],
   "metadata": {}
  },
  {
   "cell_type": "code",
   "execution_count": 4,
   "source": [
    "eratostenes(100)"
   ],
   "outputs": [
    {
     "output_type": "execute_result",
     "data": {
      "text/plain": [
       "[1,\n",
       " 2,\n",
       " 3,\n",
       " 5,\n",
       " 7,\n",
       " 11,\n",
       " 13,\n",
       " 17,\n",
       " 19,\n",
       " 23,\n",
       " 29,\n",
       " 31,\n",
       " 37,\n",
       " 41,\n",
       " 43,\n",
       " 47,\n",
       " 53,\n",
       " 59,\n",
       " 61,\n",
       " 67,\n",
       " 71,\n",
       " 73,\n",
       " 79,\n",
       " 83,\n",
       " 89,\n",
       " 97]"
      ]
     },
     "metadata": {},
     "execution_count": 4
    }
   ],
   "metadata": {}
  },
  {
   "cell_type": "markdown",
   "source": [
    "## Modificación para que la función solamente acepte números enteros.\r\n",
    "Para que una función acepte solamente un tipo de datos tenemos varias posibilidades:\r\n",
    "* La primera es utilizar el _type hinting_, que permite especificar, junto a cada parámetro, el tipo que debería tener la entrada. Si no se corresponde con el que recibe produce un error.\r\n",
    "* La segunda es utilizar la función `isinstance()` para comprobar si la entrada es del tipo deseado y actuar en consecuencia. Esto no produce ningún error y depende de nosotros gestionar si la función debe seguir ejecutándose o no."
   ],
   "metadata": {}
  },
  {
   "cell_type": "markdown",
   "source": [
    "### Type Hinting\r\n",
    "Para implementar _type hinting_ volvemos a definir la función pero especificando que `n` debe ser un `int`:"
   ],
   "metadata": {}
  },
  {
   "cell_type": "code",
   "execution_count": 5,
   "source": [
    "def eratostenes(n:int):\r\n",
    "    \"\"\"\r\n",
    "    Devuelve todos los números primos hasta n.\r\n",
    "\r\n",
    "    Parameters\r\n",
    "    ----------\r\n",
    "    n: int\r\n",
    "        Número máximo que hasta el que queremos calcular los números primos.\r\n",
    "    \r\n",
    "    Returns\r\n",
    "    -------\r\n",
    "    primos + table: list\r\n",
    "        Lista de números primos hasta n.\r\n",
    "    \"\"\"\r\n",
    "    # Creamos una tabla con todos los números naturales comprendidos entre 2 y n\r\n",
    "    table = list(range(2,n+1)) # Le sumamos uno porque no coge el final del intervalo\r\n",
    "\r\n",
    "    # Tachamos todos los múltiplos de 2 (2 incluido)\r\n",
    "    table = remove_multiples(table, 2)\r\n",
    "\r\n",
    "    primos = [1, 2]\r\n",
    "    # Recorremos la lista marcando como primos y tachando los múltiplos\r\n",
    "    while primos[-1]**2 < n:\r\n",
    "        if table[0] not in primos:\r\n",
    "            primos.append(table[0])\r\n",
    "\r\n",
    "        table = remove_multiples(table, primos[-1])\r\n",
    "    \r\n",
    "    return primos + table"
   ],
   "outputs": [],
   "metadata": {}
  },
  {
   "cell_type": "markdown",
   "source": [
    "Hecho esto, como se nos pide que no levantemos ningún error, podemos utilizar las secuencias `try/except/else` para mostrar un mensaje por pantalla en lugar del error. Para esto definimos una función que encapsula a la anterior y la ejecuta dentro un `try`."
   ],
   "metadata": {}
  },
  {
   "cell_type": "code",
   "execution_count": 6,
   "source": [
    "def eratostenes_int(n):\r\n",
    "    try:\r\n",
    "        primos = eratostenes(n)\r\n",
    "    except:\r\n",
    "        print(f\"El argumento de la función tiene que ser un número entero pero es de tipo {type(n)}.\")\r\n",
    "    else:\r\n",
    "        return primos"
   ],
   "outputs": [],
   "metadata": {}
  },
  {
   "cell_type": "code",
   "execution_count": 7,
   "source": [
    "eratostenes_int(100)"
   ],
   "outputs": [
    {
     "output_type": "execute_result",
     "data": {
      "text/plain": [
       "[1,\n",
       " 2,\n",
       " 3,\n",
       " 5,\n",
       " 7,\n",
       " 11,\n",
       " 13,\n",
       " 17,\n",
       " 19,\n",
       " 23,\n",
       " 29,\n",
       " 31,\n",
       " 37,\n",
       " 41,\n",
       " 43,\n",
       " 47,\n",
       " 53,\n",
       " 59,\n",
       " 61,\n",
       " 67,\n",
       " 71,\n",
       " 73,\n",
       " 79,\n",
       " 83,\n",
       " 89,\n",
       " 97]"
      ]
     },
     "metadata": {},
     "execution_count": 7
    }
   ],
   "metadata": {}
  },
  {
   "cell_type": "code",
   "execution_count": 8,
   "source": [
    "eratostenes_int(100.0)"
   ],
   "outputs": [
    {
     "output_type": "stream",
     "name": "stdout",
     "text": [
      "El argumento de la función tiene que ser un número entero pero es de tipo <class 'float'>.\n"
     ]
    }
   ],
   "metadata": {}
  },
  {
   "cell_type": "markdown",
   "source": [
    "### `isinstance`\r\n",
    "En este caso tenemos que incluir un `if` al principio de la función para poder gestionar la ejecución de la función."
   ],
   "metadata": {}
  },
  {
   "cell_type": "code",
   "execution_count": 9,
   "source": [
    "def eratostenes_int(n):\r\n",
    "    \"\"\"\r\n",
    "    Devuelve todos los números primos hasta n.\r\n",
    "\r\n",
    "    Parameters\r\n",
    "    ----------\r\n",
    "    n: int\r\n",
    "        Número máximo que hasta el que queremos calcular los números primos.\r\n",
    "    \r\n",
    "    Returns\r\n",
    "    -------\r\n",
    "    primos + table: list\r\n",
    "        Lista de números primos hasta n.\r\n",
    "    \"\"\"\r\n",
    "    # Comprobamos si el parámetro n es un int o no\r\n",
    "    if not isinstance(n, int):\r\n",
    "        print(f\"El argumento de la función tiene que ser un número entero pero es de tipo {type(n)}.\")\r\n",
    "        return\r\n",
    "\r\n",
    "    # Creamos una tabla con todos los números naturales comprendidos entre 2 y n\r\n",
    "    table = list(range(2,n+1)) # Le sumamos uno porque no coge el final del intervalo\r\n",
    "\r\n",
    "    # Tachamos todos los múltiplos de 2 (2 incluido)\r\n",
    "    table = remove_multiples(table, 2)\r\n",
    "\r\n",
    "    primos = [1, 2]\r\n",
    "    # Recorremos la lista marcando como primos y tachando los múltiplos\r\n",
    "    while primos[-1]**2 < n:\r\n",
    "        if table[0] not in primos:\r\n",
    "            primos.append(table[0])\r\n",
    "\r\n",
    "        table = remove_multiples(table, primos[-1])\r\n",
    "    \r\n",
    "    return primos + table"
   ],
   "outputs": [],
   "metadata": {}
  },
  {
   "cell_type": "code",
   "execution_count": 10,
   "source": [
    "eratostenes_int(100)"
   ],
   "outputs": [
    {
     "output_type": "execute_result",
     "data": {
      "text/plain": [
       "[1,\n",
       " 2,\n",
       " 3,\n",
       " 5,\n",
       " 7,\n",
       " 11,\n",
       " 13,\n",
       " 17,\n",
       " 19,\n",
       " 23,\n",
       " 29,\n",
       " 31,\n",
       " 37,\n",
       " 41,\n",
       " 43,\n",
       " 47,\n",
       " 53,\n",
       " 59,\n",
       " 61,\n",
       " 67,\n",
       " 71,\n",
       " 73,\n",
       " 79,\n",
       " 83,\n",
       " 89,\n",
       " 97]"
      ]
     },
     "metadata": {},
     "execution_count": 10
    }
   ],
   "metadata": {}
  },
  {
   "cell_type": "code",
   "execution_count": 11,
   "source": [
    "eratostenes_int(100.0)"
   ],
   "outputs": [
    {
     "output_type": "stream",
     "name": "stdout",
     "text": [
      "El argumento de la función tiene que ser un número entero pero es de tipo <class 'float'>.\n"
     ]
    }
   ],
   "metadata": {}
  }
 ],
 "metadata": {
  "kernelspec": {
   "name": "python3",
   "display_name": "Python 3.8.5 64-bit ('Master': conda)"
  },
  "language_info": {
   "codemirror_mode": {
    "name": "ipython",
    "version": 3
   },
   "file_extension": ".py",
   "mimetype": "text/x-python",
   "name": "python",
   "nbconvert_exporter": "python",
   "pygments_lexer": "ipython3",
   "version": "3.8.5"
  },
  "interpreter": {
   "hash": "57d46a1f3f975f92cc34d815bf69a7d3644582cc16f1cedc66cb95f17202c91e"
  }
 },
 "nbformat": 4,
 "nbformat_minor": 4
}