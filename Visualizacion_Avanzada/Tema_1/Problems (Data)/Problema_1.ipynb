{
 "cells": [
  {
   "cell_type": "markdown",
   "metadata": {},
   "source": [
    "## Problema 1: Banking - Risk Management\n",
    "\n",
    "Queremos analizar el riesgo de los préstamos por edades. ¿Qué es más seguro: prestarle dinero a los jovenes o a los mayores?\n",
    "\n",
    "> Realizado por Jorge Vila Tomás."
   ]
  },
  {
   "cell_type": "markdown",
   "metadata": {},
   "source": [
    "### Importación de las librerías"
   ]
  },
  {
   "cell_type": "code",
   "execution_count": 1,
   "metadata": {},
   "outputs": [],
   "source": [
    "import numpy as np\n",
    "import matplotlib.pyplot as plt\n",
    "import pandas as pd\n",
    "import seaborn as sns"
   ]
  },
  {
   "cell_type": "markdown",
   "metadata": {},
   "source": [
    "### Carga de los datos"
   ]
  },
  {
   "cell_type": "code",
   "execution_count": 2,
   "metadata": {},
   "outputs": [
    {
     "name": "stdout",
     "output_type": "stream",
     "text": [
      "Los datos que hemos importado tienen 15 filas y 4 columnas.\n"
     ]
    },
    {
     "data": {
      "text/html": [
       "<div>\n",
       "<style scoped>\n",
       "    .dataframe tbody tr th:only-of-type {\n",
       "        vertical-align: middle;\n",
       "    }\n",
       "\n",
       "    .dataframe tbody tr th {\n",
       "        vertical-align: top;\n",
       "    }\n",
       "\n",
       "    .dataframe thead th {\n",
       "        text-align: right;\n",
       "    }\n",
       "</style>\n",
       "<table border=\"1\" class=\"dataframe\">\n",
       "  <thead>\n",
       "    <tr style=\"text-align: right;\">\n",
       "      <th></th>\n",
       "      <th>Age group</th>\n",
       "      <th>Total Loans</th>\n",
       "      <th>Bad Loans</th>\n",
       "      <th>Good Loans</th>\n",
       "    </tr>\n",
       "  </thead>\n",
       "  <tbody>\n",
       "    <tr>\n",
       "      <th>0</th>\n",
       "      <td>21</td>\n",
       "      <td>9</td>\n",
       "      <td>2</td>\n",
       "      <td>7</td>\n",
       "    </tr>\n",
       "    <tr>\n",
       "      <th>1</th>\n",
       "      <td>24</td>\n",
       "      <td>310</td>\n",
       "      <td>14</td>\n",
       "      <td>296</td>\n",
       "    </tr>\n",
       "    <tr>\n",
       "      <th>2</th>\n",
       "      <td>27</td>\n",
       "      <td>511</td>\n",
       "      <td>20</td>\n",
       "      <td>491</td>\n",
       "    </tr>\n",
       "    <tr>\n",
       "      <th>3</th>\n",
       "      <td>30</td>\n",
       "      <td>4000</td>\n",
       "      <td>172</td>\n",
       "      <td>3828</td>\n",
       "    </tr>\n",
       "    <tr>\n",
       "      <th>4</th>\n",
       "      <td>33</td>\n",
       "      <td>4568</td>\n",
       "      <td>169</td>\n",
       "      <td>4399</td>\n",
       "    </tr>\n",
       "  </tbody>\n",
       "</table>\n",
       "</div>"
      ],
      "text/plain": [
       "   Age group  Total Loans  Bad Loans  Good Loans\n",
       "0         21            9          2           7\n",
       "1         24          310         14         296\n",
       "2         27          511         20         491\n",
       "3         30         4000        172        3828\n",
       "4         33         4568        169        4399"
      ]
     },
     "execution_count": 2,
     "metadata": {},
     "output_type": "execute_result"
    }
   ],
   "source": [
    "risk = pd.read_csv(\"loansRisk.csv\")\n",
    "print(\"Los datos que hemos importado tienen {} filas y {} columnas.\".format(*risk.shape))\n",
    "risk.head()"
   ]
  },
  {
   "cell_type": "markdown",
   "metadata": {},
   "source": [
    "### Salud de los datos\n",
    "\n",
    "Antes de realizar cualquier análisis es conveniente comprobar la salud de los datos: cantidad de datos faltantes, outliers, cantidad de datos de cada clase que queremos estudiar, etc."
   ]
  },
  {
   "cell_type": "code",
   "execution_count": 3,
   "metadata": {},
   "outputs": [
    {
     "data": {
      "text/plain": [
       "Age group      0\n",
       "Total Loans    0\n",
       "Bad Loans      0\n",
       "Good Loans     0\n",
       "dtype: int64"
      ]
     },
     "execution_count": 3,
     "metadata": {},
     "output_type": "execute_result"
    }
   ],
   "source": [
    "risk.isna().sum()"
   ]
  },
  {
   "cell_type": "code",
   "execution_count": 4,
   "metadata": {},
   "outputs": [
    {
     "data": {
      "text/html": [
       "<div>\n",
       "<style scoped>\n",
       "    .dataframe tbody tr th:only-of-type {\n",
       "        vertical-align: middle;\n",
       "    }\n",
       "\n",
       "    .dataframe tbody tr th {\n",
       "        vertical-align: top;\n",
       "    }\n",
       "\n",
       "    .dataframe thead th {\n",
       "        text-align: right;\n",
       "    }\n",
       "</style>\n",
       "<table border=\"1\" class=\"dataframe\">\n",
       "  <thead>\n",
       "    <tr style=\"text-align: right;\">\n",
       "      <th></th>\n",
       "      <th>Age group</th>\n",
       "      <th>Total Loans</th>\n",
       "      <th>Bad Loans</th>\n",
       "      <th>Good Loans</th>\n",
       "    </tr>\n",
       "  </thead>\n",
       "  <tbody>\n",
       "    <tr>\n",
       "      <th>count</th>\n",
       "      <td>15.000000</td>\n",
       "      <td>15.000000</td>\n",
       "      <td>15.000000</td>\n",
       "      <td>15.000000</td>\n",
       "    </tr>\n",
       "    <tr>\n",
       "      <th>mean</th>\n",
       "      <td>43.133333</td>\n",
       "      <td>4054.400000</td>\n",
       "      <td>101.600000</td>\n",
       "      <td>3952.800000</td>\n",
       "    </tr>\n",
       "    <tr>\n",
       "      <th>std</th>\n",
       "      <td>15.819819</td>\n",
       "      <td>3292.557512</td>\n",
       "      <td>86.292526</td>\n",
       "      <td>3214.334617</td>\n",
       "    </tr>\n",
       "    <tr>\n",
       "      <th>min</th>\n",
       "      <td>21.000000</td>\n",
       "      <td>6.000000</td>\n",
       "      <td>0.000000</td>\n",
       "      <td>6.000000</td>\n",
       "    </tr>\n",
       "    <tr>\n",
       "      <th>25%</th>\n",
       "      <td>31.500000</td>\n",
       "      <td>649.500000</td>\n",
       "      <td>17.000000</td>\n",
       "      <td>635.000000</td>\n",
       "    </tr>\n",
       "    <tr>\n",
       "      <th>50%</th>\n",
       "      <td>42.000000</td>\n",
       "      <td>4000.000000</td>\n",
       "      <td>84.000000</td>\n",
       "      <td>3936.000000</td>\n",
       "    </tr>\n",
       "    <tr>\n",
       "      <th>75%</th>\n",
       "      <td>52.500000</td>\n",
       "      <td>6800.000000</td>\n",
       "      <td>180.000000</td>\n",
       "      <td>6682.000000</td>\n",
       "    </tr>\n",
       "    <tr>\n",
       "      <th>max</th>\n",
       "      <td>80.000000</td>\n",
       "      <td>9000.000000</td>\n",
       "      <td>216.000000</td>\n",
       "      <td>8784.000000</td>\n",
       "    </tr>\n",
       "  </tbody>\n",
       "</table>\n",
       "</div>"
      ],
      "text/plain": [
       "       Age group  Total Loans   Bad Loans   Good Loans\n",
       "count  15.000000    15.000000   15.000000    15.000000\n",
       "mean   43.133333  4054.400000  101.600000  3952.800000\n",
       "std    15.819819  3292.557512   86.292526  3214.334617\n",
       "min    21.000000     6.000000    0.000000     6.000000\n",
       "25%    31.500000   649.500000   17.000000   635.000000\n",
       "50%    42.000000  4000.000000   84.000000  3936.000000\n",
       "75%    52.500000  6800.000000  180.000000  6682.000000\n",
       "max    80.000000  9000.000000  216.000000  8784.000000"
      ]
     },
     "execution_count": 4,
     "metadata": {},
     "output_type": "execute_result"
    }
   ],
   "source": [
    "risk.describe()"
   ]
  },
  {
   "cell_type": "code",
   "execution_count": 5,
   "metadata": {},
   "outputs": [
    {
     "data": {
      "text/html": [
       "<div>\n",
       "<style scoped>\n",
       "    .dataframe tbody tr th:only-of-type {\n",
       "        vertical-align: middle;\n",
       "    }\n",
       "\n",
       "    .dataframe tbody tr th {\n",
       "        vertical-align: top;\n",
       "    }\n",
       "\n",
       "    .dataframe thead th {\n",
       "        text-align: right;\n",
       "    }\n",
       "</style>\n",
       "<table border=\"1\" class=\"dataframe\">\n",
       "  <thead>\n",
       "    <tr style=\"text-align: right;\">\n",
       "      <th></th>\n",
       "      <th>Age group</th>\n",
       "      <th>Total Loans</th>\n",
       "    </tr>\n",
       "  </thead>\n",
       "  <tbody>\n",
       "    <tr>\n",
       "      <th>0</th>\n",
       "      <td>21</td>\n",
       "      <td>9</td>\n",
       "    </tr>\n",
       "    <tr>\n",
       "      <th>1</th>\n",
       "      <td>24</td>\n",
       "      <td>310</td>\n",
       "    </tr>\n",
       "    <tr>\n",
       "      <th>2</th>\n",
       "      <td>27</td>\n",
       "      <td>511</td>\n",
       "    </tr>\n",
       "    <tr>\n",
       "      <th>3</th>\n",
       "      <td>30</td>\n",
       "      <td>4000</td>\n",
       "    </tr>\n",
       "    <tr>\n",
       "      <th>4</th>\n",
       "      <td>33</td>\n",
       "      <td>4568</td>\n",
       "    </tr>\n",
       "    <tr>\n",
       "      <th>5</th>\n",
       "      <td>36</td>\n",
       "      <td>5698</td>\n",
       "    </tr>\n",
       "    <tr>\n",
       "      <th>6</th>\n",
       "      <td>39</td>\n",
       "      <td>8209</td>\n",
       "    </tr>\n",
       "    <tr>\n",
       "      <th>7</th>\n",
       "      <td>42</td>\n",
       "      <td>8117</td>\n",
       "    </tr>\n",
       "    <tr>\n",
       "      <th>8</th>\n",
       "      <td>45</td>\n",
       "      <td>9000</td>\n",
       "    </tr>\n",
       "    <tr>\n",
       "      <th>9</th>\n",
       "      <td>48</td>\n",
       "      <td>7600</td>\n",
       "    </tr>\n",
       "    <tr>\n",
       "      <th>10</th>\n",
       "      <td>51</td>\n",
       "      <td>6000</td>\n",
       "    </tr>\n",
       "    <tr>\n",
       "      <th>11</th>\n",
       "      <td>54</td>\n",
       "      <td>4000</td>\n",
       "    </tr>\n",
       "    <tr>\n",
       "      <th>12</th>\n",
       "      <td>57</td>\n",
       "      <td>2000</td>\n",
       "    </tr>\n",
       "    <tr>\n",
       "      <th>13</th>\n",
       "      <td>60</td>\n",
       "      <td>788</td>\n",
       "    </tr>\n",
       "    <tr>\n",
       "      <th>14</th>\n",
       "      <td>80</td>\n",
       "      <td>6</td>\n",
       "    </tr>\n",
       "  </tbody>\n",
       "</table>\n",
       "</div>"
      ],
      "text/plain": [
       "    Age group  Total Loans\n",
       "0          21            9\n",
       "1          24          310\n",
       "2          27          511\n",
       "3          30         4000\n",
       "4          33         4568\n",
       "5          36         5698\n",
       "6          39         8209\n",
       "7          42         8117\n",
       "8          45         9000\n",
       "9          48         7600\n",
       "10         51         6000\n",
       "11         54         4000\n",
       "12         57         2000\n",
       "13         60          788\n",
       "14         80            6"
      ]
     },
     "execution_count": 5,
     "metadata": {},
     "output_type": "execute_result"
    }
   ],
   "source": [
    "risk[[\"Age group\", \"Total Loans\"]]"
   ]
  },
  {
   "cell_type": "markdown",
   "metadata": {},
   "source": [
    "El primer y el último grupos de edad (21 y 80 años) tienen muy pocas muestras en comparación con el resto de grupos, así que podría tener sentido eliminar estas entradas y quedarnos únicamente con las que tienen suficientes muestras."
   ]
  },
  {
   "cell_type": "code",
   "execution_count": 6,
   "metadata": {},
   "outputs": [
    {
     "data": {
      "text/html": [
       "<div>\n",
       "<style scoped>\n",
       "    .dataframe tbody tr th:only-of-type {\n",
       "        vertical-align: middle;\n",
       "    }\n",
       "\n",
       "    .dataframe tbody tr th {\n",
       "        vertical-align: top;\n",
       "    }\n",
       "\n",
       "    .dataframe thead th {\n",
       "        text-align: right;\n",
       "    }\n",
       "</style>\n",
       "<table border=\"1\" class=\"dataframe\">\n",
       "  <thead>\n",
       "    <tr style=\"text-align: right;\">\n",
       "      <th></th>\n",
       "      <th>Age group</th>\n",
       "      <th>Total Loans</th>\n",
       "      <th>Bad Loans</th>\n",
       "      <th>Good Loans</th>\n",
       "    </tr>\n",
       "  </thead>\n",
       "  <tbody>\n",
       "    <tr>\n",
       "      <th>1</th>\n",
       "      <td>24</td>\n",
       "      <td>310</td>\n",
       "      <td>14</td>\n",
       "      <td>296</td>\n",
       "    </tr>\n",
       "    <tr>\n",
       "      <th>2</th>\n",
       "      <td>27</td>\n",
       "      <td>511</td>\n",
       "      <td>20</td>\n",
       "      <td>491</td>\n",
       "    </tr>\n",
       "    <tr>\n",
       "      <th>3</th>\n",
       "      <td>30</td>\n",
       "      <td>4000</td>\n",
       "      <td>172</td>\n",
       "      <td>3828</td>\n",
       "    </tr>\n",
       "    <tr>\n",
       "      <th>4</th>\n",
       "      <td>33</td>\n",
       "      <td>4568</td>\n",
       "      <td>169</td>\n",
       "      <td>4399</td>\n",
       "    </tr>\n",
       "    <tr>\n",
       "      <th>5</th>\n",
       "      <td>36</td>\n",
       "      <td>5698</td>\n",
       "      <td>188</td>\n",
       "      <td>5510</td>\n",
       "    </tr>\n",
       "    <tr>\n",
       "      <th>6</th>\n",
       "      <td>39</td>\n",
       "      <td>8209</td>\n",
       "      <td>197</td>\n",
       "      <td>8012</td>\n",
       "    </tr>\n",
       "    <tr>\n",
       "      <th>7</th>\n",
       "      <td>42</td>\n",
       "      <td>8117</td>\n",
       "      <td>211</td>\n",
       "      <td>7906</td>\n",
       "    </tr>\n",
       "    <tr>\n",
       "      <th>8</th>\n",
       "      <td>45</td>\n",
       "      <td>9000</td>\n",
       "      <td>216</td>\n",
       "      <td>8784</td>\n",
       "    </tr>\n",
       "    <tr>\n",
       "      <th>9</th>\n",
       "      <td>48</td>\n",
       "      <td>7600</td>\n",
       "      <td>152</td>\n",
       "      <td>7448</td>\n",
       "    </tr>\n",
       "    <tr>\n",
       "      <th>10</th>\n",
       "      <td>51</td>\n",
       "      <td>6000</td>\n",
       "      <td>84</td>\n",
       "      <td>5916</td>\n",
       "    </tr>\n",
       "    <tr>\n",
       "      <th>11</th>\n",
       "      <td>54</td>\n",
       "      <td>4000</td>\n",
       "      <td>64</td>\n",
       "      <td>3936</td>\n",
       "    </tr>\n",
       "    <tr>\n",
       "      <th>12</th>\n",
       "      <td>57</td>\n",
       "      <td>2000</td>\n",
       "      <td>26</td>\n",
       "      <td>1974</td>\n",
       "    </tr>\n",
       "    <tr>\n",
       "      <th>13</th>\n",
       "      <td>60</td>\n",
       "      <td>788</td>\n",
       "      <td>9</td>\n",
       "      <td>779</td>\n",
       "    </tr>\n",
       "  </tbody>\n",
       "</table>\n",
       "</div>"
      ],
      "text/plain": [
       "    Age group  Total Loans  Bad Loans  Good Loans\n",
       "1          24          310         14         296\n",
       "2          27          511         20         491\n",
       "3          30         4000        172        3828\n",
       "4          33         4568        169        4399\n",
       "5          36         5698        188        5510\n",
       "6          39         8209        197        8012\n",
       "7          42         8117        211        7906\n",
       "8          45         9000        216        8784\n",
       "9          48         7600        152        7448\n",
       "10         51         6000         84        5916\n",
       "11         54         4000         64        3936\n",
       "12         57         2000         26        1974\n",
       "13         60          788          9         779"
      ]
     },
     "execution_count": 6,
     "metadata": {},
     "output_type": "execute_result"
    }
   ],
   "source": [
    "risk = risk.iloc[1:-1,:]\n",
    "risk"
   ]
  },
  {
   "cell_type": "markdown",
   "metadata": {},
   "source": [
    "### Creación de variables\n",
    "\n",
    "Puede ser interesante crear dos variables nuevas que nos indiquen directamente el porcentaje de buenos y malos prestamos. Este tipo de variables *de proporción* son muy útiles para comparar justamente grupos con diferente cantidad de muestras. Podemos calcularlo muy fácilmente a partir de los datos que tenemos:"
   ]
  },
  {
   "cell_type": "code",
   "execution_count": 7,
   "metadata": {},
   "outputs": [],
   "source": [
    "risk[\"Bad Loans (%)\"] = risk[\"Bad Loans\"]/risk[\"Total Loans\"]\n",
    "risk[\"Good Loans (%)\"] = risk[\"Good Loans\"]/risk[\"Total Loans\"]"
   ]
  },
  {
   "cell_type": "markdown",
   "metadata": {},
   "source": [
    "### Representación de los datos\n",
    "\n",
    "Para responder a la pregunta que se nos plantea en el enunciado, ¿Qué es más seguro: prestarle dinero a los jovenes o a los mayores?, vamos a representar tanto la cantidad como la proporción de prestamos que han ido mal y los que han ido bien. Estas figuras deberían servirnos para extraer las conclusiones necesarias.\n",
    "\n",
    "> Representamos tanto la cantidad como la proporción para manifestar la utilidad de utilizar la proporción en lugar de la cantidad *raw*."
   ]
  },
  {
   "cell_type": "code",
   "execution_count": 8,
   "metadata": {},
   "outputs": [
    {
     "data": {
      "image/png": "[encoded data removed]",
      "text/plain": [
       "<Figure size 720x360 with 2 Axes>"
      ]
     },
     "metadata": {
      "needs_background": "light"
     },
     "output_type": "display_data"
    }
   ],
   "source": [
    "plt.figure(figsize=(10,5))\n",
    "plt.subplot(1,2,1)\n",
    "sns.lineplot(data=risk, x=\"Age group\", y=\"Bad Loans\", marker=\"o\")\n",
    "plt.title(\"Raw\")\n",
    "plt.subplot(1,2,2)\n",
    "sns.lineplot(data=risk, x=\"Age group\", y=\"Bad Loans (%)\", marker=\"o\")\n",
    "plt.title(\"(%)\")\n",
    "plt.suptitle(\"Bad Loans vs Age Group\")\n",
    "plt.show()"
   ]
  },
  {
   "cell_type": "code",
   "execution_count": 9,
   "metadata": {},
   "outputs": [
    {
     "data": {
      "image/png": "[encoded data removed]",
      "text/plain": [
       "<Figure size 720x360 with 2 Axes>"
      ]
     },
     "metadata": {
      "needs_background": "light"
     },
     "output_type": "display_data"
    }
   ],
   "source": [
    "plt.figure(figsize=(10,5))\n",
    "plt.subplot(1,2,1)\n",
    "sns.lineplot(data=risk, x=\"Age group\", y=\"Good Loans\", marker=\"o\")\n",
    "plt.title(\"Raw\")\n",
    "plt.subplot(1,2,2)\n",
    "sns.lineplot(data=risk, x=\"Age group\", y=\"Good Loans (%)\", marker=\"o\")\n",
    "plt.title(\"(%)\")\n",
    "plt.suptitle(\"Good Loans vs Age Group\")\n",
    "plt.show()"
   ]
  },
  {
   "cell_type": "markdown",
   "metadata": {},
   "source": [
    "### Conclusiones\n",
    "\n",
    "Como podemos ver, utilizar la variable percentual es muy importante para poder extraer las conclusiones adecuadas.\n",
    "\n",
    "A partir de estas figuras vemos que hay cierta tendencia que indica que los prestamos a la gente mayor tienen menor riesgo que los prestamos a la gente joven."
   ]
  }
 ],
 "metadata": {
  "interpreter": {
   "hash": "d091885e59bdea4d5bb191320d51b466f88e122083fd58e9cdbb0d6377c9e4fd"
  },
  "kernelspec": {
   "display_name": "Python 3.8.12 64-bit ('data_science': conda)",
   "language": "python",
   "name": "python3"
  },
  "language_info": {
   "codemirror_mode": {
    "name": "ipython",
    "version": 3
   },
   "file_extension": ".py",
   "mimetype": "text/x-python",
   "name": "python",
   "nbconvert_exporter": "python",
   "pygments_lexer": "ipython3",
   "version": "3.8.13"
  },
  "orig_nbformat": 4
 },
 "nbformat": 4,
 "nbformat_minor": 2
}
