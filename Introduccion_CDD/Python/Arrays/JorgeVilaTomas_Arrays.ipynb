{
 "cells": [
  {
   "cell_type": "markdown",
   "source": [
    "<img src=\"idal-logo.png\" align=\"right\" style=\"float\" width=\"400\">\r\n",
    "<font color=\"#CA3532\"><h1 align=\"left\">Master en Ciencia de Datos</h1></font>\r\n",
    "<font color=\"#6E6E6E\"><h2 align=\"left\">Tarea Extra 3. </h2></font> \r\n",
    "<font color=\"#6E6E6E\"><h2 align=\"left\">28-09-2021 </h2></font> \r\n",
    "\r\n",
    "#### Jorge Vila Tomás"
   ],
   "metadata": {}
  },
  {
   "cell_type": "markdown",
   "source": [
    "# Definición\n",
    "\n",
    "En matemáticas, la pseudoinversa $A^+$ de una matriz $A$ es una generalización de la matriz inversa.\n",
    "\n",
    "* Un uso común de la pseudoinversa es el de encontrar una solución de «ajuste óptimo» (por mínimos cuadrados) de un sistema de ecuaciones lineales que no posee solución única. \n",
    "* Otro uso es hallar la solución de norma mínima (euclídea) de un sistema de ecuaciones lineales con múltiples soluciones. \n",
    "\n",
    "La pseudoinversa $A^+=VS^{-1}U^t$ se obtiene a través de la descomposición en valores singulares (SVD) de la matriz $A=USV^t$. \n",
    "\n",
    "# Descomposición en valores singulares \n",
    "\n",
    "Crea una array $A$ definido omo una matriz 3x2 con los enteros del 1 al 6. Utiliza la función  de numpy apropiada  para obtener la descomposicion SVD reducida de la matriz $A=USV^t$.\n"
   ],
   "metadata": {}
  },
  {
   "cell_type": "code",
   "execution_count": 1,
   "source": [
    "import numpy as np"
   ],
   "outputs": [],
   "metadata": {}
  },
  {
   "cell_type": "markdown",
   "source": [
    "Para calcular la descomposición SVD reducida tenemos que utilizar la función `np.lingalg.svd()` con el parámetro `full_matrices=False`, ya que por defecto es `True` y las dimensiones no cuadrarían para hacer la reconstrucción. También hay que tener en cuenta que la función nos devuelve `s`, que corresponde a los valores singulares, y para obtener `S` tenemos que transformarlo en una matriz diagonal con `np.diag(s)`."
   ],
   "metadata": {}
  },
  {
   "cell_type": "code",
   "execution_count": 2,
   "source": [
    "A = np.array([[1,2],\r\n",
    "             [3,4],\r\n",
    "             [5,6]])\r\n",
    "U, s, Vt = np.linalg.svd(A, full_matrices=False)\r\n",
    "S = np.diag(s)\r\n",
    "A.shape, U.shape, S.shape, Vt.shape"
   ],
   "outputs": [
    {
     "output_type": "execute_result",
     "data": {
      "text/plain": [
       "((3, 2), (3, 2), (2, 2), (2, 2))"
      ]
     },
     "metadata": {},
     "execution_count": 2
    }
   ],
   "metadata": {
    "scrolled": true
   }
  },
  {
   "cell_type": "markdown",
   "source": [
    "**Comprueba que $A=USV^t$**. \r\n",
    "\r\n",
    "Por problemas de precisión en los cálculos es conveniente comprobar que la diferencia es realmente pequeña $||A-USV^t||$. Deberias obtener una diferencia menor que $10^{-10}$ \r\n",
    "\r\n",
    "_Nota_:Utiliza la función adecuada de python para calcular la **norma** y  medir la distancia. Algo como **norm**? Investiga"
   ],
   "metadata": {}
  },
  {
   "cell_type": "markdown",
   "source": [
    "Calculando la norma según `np.linalg.norm()` podemos ver que la diferencia entre las dos matrices, la original y la reconstruida, es verdaderamente pequeña. Ahora podemos estar tranquilos porque el cálculo parece estar realizándose correctamente.\r\n",
    "\r\n",
    "> Nota: Para calcular el producto matricial se pueden utilizar tanto `np.matmult()`, `.dot()` y `@`, por lo que por simplicidad escribiremos `@`."
   ],
   "metadata": {}
  },
  {
   "cell_type": "code",
   "execution_count": 3,
   "source": [
    "np.linalg.norm(A -(U @ S @ Vt))"
   ],
   "outputs": [
    {
     "output_type": "execute_result",
     "data": {
      "text/plain": [
       "2.4424906541753444e-15"
      ]
     },
     "metadata": {},
     "execution_count": 3
    }
   ],
   "metadata": {}
  },
  {
   "cell_type": "markdown",
   "source": [
    "La pseudoinversa se puede calcular como  $A^+=VS^{-1}U^t$. Comprueba que el resultado utilizando la función `pinv` de la librería `numpy` proporciona el mismo resultado."
   ],
   "metadata": {}
  },
  {
   "cell_type": "code",
   "execution_count": 4,
   "source": [
    "Si = np.linalg.inv(S)\r\n",
    "Api = Vt.T @ Si @ U.T\r\n",
    "Api"
   ],
   "outputs": [
    {
     "output_type": "execute_result",
     "data": {
      "text/plain": [
       "array([[-1.33333333, -0.33333333,  0.66666667],\n",
       "       [ 1.08333333,  0.33333333, -0.41666667]])"
      ]
     },
     "metadata": {},
     "execution_count": 4
    }
   ],
   "metadata": {}
  },
  {
   "cell_type": "code",
   "execution_count": 5,
   "source": [
    "np.linalg.pinv(A)"
   ],
   "outputs": [
    {
     "output_type": "execute_result",
     "data": {
      "text/plain": [
       "array([[-1.33333333, -0.33333333,  0.66666667],\n",
       "       [ 1.08333333,  0.33333333, -0.41666667]])"
      ]
     },
     "metadata": {},
     "execution_count": 5
    }
   ],
   "metadata": {}
  },
  {
   "cell_type": "markdown",
   "source": [
    "La función `np.allclose()` nos devuelve `True` o `False` si la diferencia entre dos matrices está por debajo de cierto threshold de confianza, `r_tol` y `a_tol`. Podemos utilizarla a lo largo de este ejercicio para comprobar si dos matrices son suficientemente parecidas."
   ],
   "metadata": {}
  },
  {
   "cell_type": "code",
   "execution_count": 6,
   "source": [
    "np.allclose(Api, np.linalg.pinv(A))"
   ],
   "outputs": [
    {
     "output_type": "execute_result",
     "data": {
      "text/plain": [
       "True"
      ]
     },
     "metadata": {},
     "execution_count": 6
    }
   ],
   "metadata": {}
  },
  {
   "cell_type": "markdown",
   "source": [
    "# Condiciones de Penrose\n",
    "\n",
    "La pseudoinversa $A^+$ cumple las siguientes propiedades:\n",
    "\n",
    "1. $AA^+A=A$\n",
    "2. $A^+AA^+=A^+$\n",
    "3. $A^+A= (A^+A)^t$\n",
    "4. $AA^+= (AA^+)^t$\n",
    "\n",
    "**Comprueba que no se cumple $AA^+=I$**.\n",
    "\n",
    "Es decir $A^+$ no es la matriz inversa $A^{-1}$.\n",
    "\n",
    "_Nota: I es la matriz unidad._  \n"
   ],
   "metadata": {}
  },
  {
   "cell_type": "code",
   "execution_count": 7,
   "source": [
    "#A*A_plus!= Identidad\r\n",
    "A_Api = A @ Api\r\n",
    "## Con np.identity podemos obtener la matriz identidad de dimensión n.\r\n",
    "## Le pedimos que nos la haga de la primera dimensión de la matriz A_Api para que \r\n",
    "## tengan las mismas dimensiones.\r\n",
    "np.allclose(A_Api, np.identity(n=A_Api.shape[0]))"
   ],
   "outputs": [
    {
     "output_type": "execute_result",
     "data": {
      "text/plain": [
       "False"
      ]
     },
     "metadata": {},
     "execution_count": 7
    }
   ],
   "metadata": {}
  },
  {
   "cell_type": "markdown",
   "source": [
    "**Comprueba que se cumple $AA^+A=A$**. \n",
    "\n",
    "La primera condición de Penrose, hace que aparentemente $A^+$ realice la función de matriz inversa $A^{-1}$ porque transforma $A$ nuevamente en $A$ tal y como cumple la matriz inversa $AA^{-1}A=A$."
   ],
   "metadata": {}
  },
  {
   "cell_type": "code",
   "execution_count": 8,
   "source": [
    "#Comprobamos que  A*A_plus*A es A, como la inversa!!!! Sin serlo!!!!\r\n",
    "np.allclose(A @ Api @ A, A)"
   ],
   "outputs": [
    {
     "output_type": "execute_result",
     "data": {
      "text/plain": [
       "True"
      ]
     },
     "metadata": {},
     "execution_count": 8
    }
   ],
   "metadata": {}
  },
  {
   "cell_type": "markdown",
   "source": [
    "Esta \"idea\" es la que facilita resolver situaciones en las que no existe la matriz inversa. \n",
    "\n",
    "# Sistema de ecuaciones determinado.\n",
    "\n",
    "En este tipo de ecuaciones $Ax=b$, cuando hay una solución única, esta se puede obtener como $x=A^{-1}b$. \n",
    "\n",
    "Dada la matriz A=[[3,-4],[2,4]] y B =[[-6],[16]] \n",
    "\n",
    "* Calcula $x$ empleando la función **solve** de numpy. \n",
    "* Calcula $x$ empleando la pseudoinversa como $x=A^{+}b$"
   ],
   "metadata": {}
  },
  {
   "cell_type": "code",
   "execution_count": 9,
   "source": [
    "A = np.array([[3,-4],\r\n",
    "              [2,4]])\r\n",
    "B = np.array([[-6],\r\n",
    "              [16]])\r\n",
    "A, B"
   ],
   "outputs": [
    {
     "output_type": "execute_result",
     "data": {
      "text/plain": [
       "(array([[ 3, -4],\n",
       "        [ 2,  4]]),\n",
       " array([[-6],\n",
       "        [16]]))"
      ]
     },
     "metadata": {},
     "execution_count": 9
    }
   ],
   "metadata": {}
  },
  {
   "cell_type": "code",
   "execution_count": 10,
   "source": [
    "np.linalg.solve(A, B)"
   ],
   "outputs": [
    {
     "output_type": "execute_result",
     "data": {
      "text/plain": [
       "array([[2.],\n",
       "       [3.]])"
      ]
     },
     "metadata": {},
     "execution_count": 10
    }
   ],
   "metadata": {}
  },
  {
   "cell_type": "code",
   "execution_count": 11,
   "source": [
    "np.linalg.pinv(A) @ B"
   ],
   "outputs": [
    {
     "output_type": "execute_result",
     "data": {
      "text/plain": [
       "array([[2.],\n",
       "       [3.]])"
      ]
     },
     "metadata": {},
     "execution_count": 11
    }
   ],
   "metadata": {}
  },
  {
   "cell_type": "markdown",
   "source": [
    "Comprueba también que la pseudoinversa $A^+$ coincide con la matriz inversa y, por tanto, también resuelve el sistema de ecuaciones."
   ],
   "metadata": {}
  },
  {
   "cell_type": "code",
   "execution_count": 12,
   "source": [
    "np.allclose(np.linalg.pinv(A), np.linalg.inv(A))"
   ],
   "outputs": [
    {
     "output_type": "execute_result",
     "data": {
      "text/plain": [
       "True"
      ]
     },
     "metadata": {},
     "execution_count": 12
    }
   ],
   "metadata": {}
  },
  {
   "cell_type": "markdown",
   "source": [
    "# Sistema de ecuaciones indeterminado. \r\n",
    "\r\n",
    "En este tipo de ecuaciones $Ax=b$, donde NO hay una solución única, esta NO se puede obtener como $x=A^{1-}b$ porque no existe la matriz inversa. \r\n",
    "\r\n",
    "Dada la matriz A=[[1,3,5],[2,4,6]] y B =[[37],[48]], comprueba que el sistema de ecuaciones no tiene solución única porque el rango de la matriz $A$ es igual que el rango de la matriz ampliada $M$ pero menor que el número de variables del sistema de ecuaciones (Teorema de Rouché): \r\n",
    "\r\n",
    "_Nota_: el rango de una matriz se puede obtener con alguna instrucción de python, averigualo...\r\n",
    "\r\n",
    "_Nota_: la matriz ampliada $M=[A|b]$ se obtiene añadiendo el témino independiente $b$ como una columna más de la matriz $A$"
   ],
   "metadata": {}
  },
  {
   "cell_type": "code",
   "execution_count": 13,
   "source": [
    "A = np.array([[1,3,5],\r\n",
    "              [2,4,6]])\r\n",
    "B = np.array([[37],\r\n",
    "              [48]])\r\n",
    "A, B"
   ],
   "outputs": [
    {
     "output_type": "execute_result",
     "data": {
      "text/plain": [
       "(array([[1, 3, 5],\n",
       "        [2, 4, 6]]),\n",
       " array([[37],\n",
       "        [48]]))"
      ]
     },
     "metadata": {},
     "execution_count": 13
    }
   ],
   "metadata": {}
  },
  {
   "cell_type": "markdown",
   "source": [
    "El rango de una matriz se puede obtener con la función `np.linalg.matrix_rank()`. Para obtener la matriz ampliada `A|B` podemos utilizar la función `np.concatenate()` y concatenar las matrices por la dimensión de las columnas.\r\n",
    "\r\n",
    "Comprobamos que el rango de la matriz `A` es igual al rango de la matriz ampliada `A|B`, pero es menor que el número de las variables, que se puede obtener simplemente como la cantidad de columnas de la matriz `A`."
   ],
   "metadata": {}
  },
  {
   "cell_type": "code",
   "execution_count": 14,
   "source": [
    "print(f\"El rango de la matriz A es: {np.linalg.matrix_rank(A)}\")\r\n",
    "print(f\"El rango de la matriz ampliada A|B es: {np.linalg.matrix_rank(np.concatenate([A,B], axis=1))}\")\r\n",
    "print(f\"El número de variables del sistema de ecuaciones es: {A.shape[-1]}\")"
   ],
   "outputs": [
    {
     "output_type": "stream",
     "name": "stdout",
     "text": [
      "El rango de la matriz A es: 2\n",
      "El rango de la matriz ampliada A|B es: 2\n",
      "El número de variables del sistema de ecuaciones es: 3\n"
     ]
    }
   ],
   "metadata": {}
  },
  {
   "cell_type": "markdown",
   "source": [
    "Obtén una solución utilizando la pseudoinversa. Comprueba que es correcta. "
   ],
   "metadata": {}
  },
  {
   "cell_type": "code",
   "execution_count": 15,
   "source": [
    "x = np.linalg.pinv(A) @ B\r\n",
    "x"
   ],
   "outputs": [
    {
     "output_type": "execute_result",
     "data": {
      "text/plain": [
       "array([[2.66666667],\n",
       "       [3.66666667],\n",
       "       [4.66666667]])"
      ]
     },
     "metadata": {},
     "execution_count": 15
    }
   ],
   "metadata": {}
  },
  {
   "cell_type": "markdown",
   "source": [
    "Para comprobar que la solución de la ecuación es correcta podemos comprobar simplemente que se cumple la relación `Ax=B`."
   ],
   "metadata": {}
  },
  {
   "cell_type": "code",
   "execution_count": 16,
   "source": [
    "B_calc = (A*x.squeeze()).sum(axis=1)\r\n",
    "B_calc"
   ],
   "outputs": [
    {
     "output_type": "execute_result",
     "data": {
      "text/plain": [
       "array([37., 48.])"
      ]
     },
     "metadata": {},
     "execution_count": 16
    }
   ],
   "metadata": {}
  },
  {
   "cell_type": "code",
   "execution_count": 17,
   "source": [
    "np.allclose(B.ravel(), B_calc.ravel())"
   ],
   "outputs": [
    {
     "output_type": "execute_result",
     "data": {
      "text/plain": [
       "True"
      ]
     },
     "metadata": {},
     "execution_count": 17
    }
   ],
   "metadata": {}
  },
  {
   "cell_type": "markdown",
   "source": [
    "# Sistema de ecuaciones incompatible.\r\n",
    "\r\n",
    "En este tipo de ecuaciones $Ax=b$, donde NO hay una solución. Aún así podemos obtener una solución que minimice la distancia entre $Ax$ y $b$, es decir minimizar la norma $||Ax-b||$, utilizando la pseudoinversa $x=A^{+}b$. \r\n",
    "\r\n",
    "Dada la matriz A=[[1,1,1,1],[1,1,-1,-1],[2,0,1,1],[0,2,-1,-1]] y B =[[[1],[2],[0],[4]]. Comprueba que el sistema de ecuaciones no tiene solución porque el rango de la matriz $A$ menor que el rango de la matriz ampliada $M$ (Teorema de Rouché): \r\n",
    "\r\n",
    "_Nota_ : el rango de una matriz se puede obtener con alguna instrucción de python, averigualo...\r\n",
    "\r\n",
    "_Nota_ : la matriz ampliada $M=[A|b]$ se obtiene añadiendo el témino independiente $b$ como una columna más de la matriz $A$"
   ],
   "metadata": {}
  },
  {
   "cell_type": "code",
   "execution_count": 18,
   "source": [
    "A = np.array([[1,1,1,1],\r\n",
    "              [1,1,-1,-1],\r\n",
    "              [2,0,1,1],\r\n",
    "              [0,2,-1,-1]])\r\n",
    "B = np.array([[1],\r\n",
    "              [2],\r\n",
    "              [0],\r\n",
    "              [4]])\r\n",
    "A, B"
   ],
   "outputs": [
    {
     "output_type": "execute_result",
     "data": {
      "text/plain": [
       "(array([[ 1,  1,  1,  1],\n",
       "        [ 1,  1, -1, -1],\n",
       "        [ 2,  0,  1,  1],\n",
       "        [ 0,  2, -1, -1]]),\n",
       " array([[1],\n",
       "        [2],\n",
       "        [0],\n",
       "        [4]]))"
      ]
     },
     "metadata": {},
     "execution_count": 18
    }
   ],
   "metadata": {}
  },
  {
   "cell_type": "markdown",
   "source": [
    "Ahora podemos ver que el rango de la matriz `A` es menor que el rango de la matriz ampliada `A|B`, por lo que el sistema es incompatible."
   ],
   "metadata": {}
  },
  {
   "cell_type": "code",
   "execution_count": 19,
   "source": [
    "print(f\"El rango de la matriz A es: {np.linalg.matrix_rank(A)}\")\r\n",
    "print(f\"El rango de la matriz ampliada A|B es: {np.linalg.matrix_rank(np.concatenate([A,B], axis=-1))}\")\r\n",
    "print(f\"El número de variables del sistema de ecuaciones es: {A.shape[-1]}\")"
   ],
   "outputs": [
    {
     "output_type": "stream",
     "name": "stdout",
     "text": [
      "El rango de la matriz A es: 3\n",
      "El rango de la matriz ampliada A|B es: 4\n",
      "El número de variables del sistema de ecuaciones es: 4\n"
     ]
    }
   ],
   "metadata": {}
  },
  {
   "cell_type": "markdown",
   "source": [
    "Calcula $x=A^{+}b$ y comprueba que no es solución del sistema de ecuaciones $Ax=b$."
   ],
   "metadata": {}
  },
  {
   "cell_type": "code",
   "execution_count": 20,
   "source": [
    "x = np.linalg.pinv(A) @ B\r\n",
    "x"
   ],
   "outputs": [
    {
     "output_type": "execute_result",
     "data": {
      "text/plain": [
       "array([[ 0.125],\n",
       "       [ 1.625],\n",
       "       [-0.25 ],\n",
       "       [-0.25 ]])"
      ]
     },
     "metadata": {},
     "execution_count": 20
    }
   ],
   "metadata": {}
  },
  {
   "cell_type": "markdown",
   "source": [
    "Para comprobar que la solución de la ecuación es correcta podemos comprobar simplemente que se cumple la relación `Ax=B`."
   ],
   "metadata": {}
  },
  {
   "cell_type": "code",
   "execution_count": 21,
   "source": [
    "B_calc = (A*x.squeeze()).sum(axis=1)\r\n",
    "B_calc, B"
   ],
   "outputs": [
    {
     "output_type": "execute_result",
     "data": {
      "text/plain": [
       "(array([ 1.25,  2.25, -0.25,  3.75]),\n",
       " array([[1],\n",
       "        [2],\n",
       "        [0],\n",
       "        [4]]))"
      ]
     },
     "metadata": {},
     "execution_count": 21
    }
   ],
   "metadata": {}
  },
  {
   "cell_type": "code",
   "execution_count": 22,
   "source": [
    "np.allclose(B.ravel(), B_calc.ravel())"
   ],
   "outputs": [
    {
     "output_type": "execute_result",
     "data": {
      "text/plain": [
       "False"
      ]
     },
     "metadata": {},
     "execution_count": 22
    }
   ],
   "metadata": {}
  }
 ],
 "metadata": {
  "kernelspec": {
   "name": "python3",
   "display_name": "Python 3.8.5 64-bit ('Master': conda)"
  },
  "language_info": {
   "codemirror_mode": {
    "name": "ipython",
    "version": 3
   },
   "file_extension": ".py",
   "mimetype": "text/x-python",
   "name": "python",
   "nbconvert_exporter": "python",
   "pygments_lexer": "ipython3",
   "version": "3.8.5"
  },
  "interpreter": {
   "hash": "57d46a1f3f975f92cc34d815bf69a7d3644582cc16f1cedc66cb95f17202c91e"
  }
 },
 "nbformat": 4,
 "nbformat_minor": 4
}